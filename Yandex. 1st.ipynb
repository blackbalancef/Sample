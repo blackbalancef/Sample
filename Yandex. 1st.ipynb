{
 "cells": [
  {
   "cell_type": "code",
   "execution_count": 338,
   "metadata": {},
   "outputs": [
    {
     "name": "stdout",
     "output_type": "stream",
     "text": [
      "5\n",
      "abcab\n"
     ]
    }
   ],
   "source": [
    "n = int(input())\n",
    "x = list(input())\n"
   ]
  },
  {
   "cell_type": "code",
   "execution_count": 339,
   "metadata": {},
   "outputs": [],
   "source": [
    "y = []"
   ]
  },
  {
   "cell_type": "code",
   "execution_count": 340,
   "metadata": {},
   "outputs": [
    {
     "name": "stdout",
     "output_type": "stream",
     "text": [
      "[]\n",
      "i- 0\n",
      "a\n",
      "['a']\n",
      "['a']\n",
      "i- 1\n",
      "b\n",
      "['a', 'b']\n",
      "['a', 'b']\n",
      "i- 2\n",
      "c\n",
      "['a', 'b', 'c']\n",
      "norm 1\n",
      "i 6\n",
      "3\n"
     ]
    }
   ],
   "source": [
    "j = 0\n",
    "i = 0\n",
    "cnt = 0\n",
    "while i < n:\n",
    "    if x[i] in y:\n",
    "        if n-i < i:\n",
    "        #укороченный, если не хватило длинны\n",
    "            if x[:(n-i)] == x[i:]:\n",
    "                #print('norm 1')\n",
    "            else: \n",
    "                y = x\n",
    "        else: \n",
    "        #Еще осталось за последовательностью другие буквы стоят\n",
    "            if x[:(i)] == x[i:(2*i)]:\n",
    "                #print('norm 2')\n",
    "                #print(i)\n",
    "                y = x[:i]\n",
    "                cnt += 1\n",
    "                #print(cnt)\n",
    "                #print(i)\n",
    "            else:\n",
    "                y = x[:(2*i)]\n",
    "            \n",
    "        i = 2*i\n",
    "        #print('i',i)\n",
    "        if i >= n:\n",
    "            break\n",
    "    else:\n",
    "        if cnt != 0:\n",
    "            y = y * (cnt+1) + [x[i]]\n",
    "            i += 1\n",
    "            #print('i+')\n",
    "        else:\n",
    "            #print(y)\n",
    "            #print('i-',i)\n",
    "            #print(x[i])\n",
    "            y.append(x[i])\n",
    "            #print(y)\n",
    "            i += 1\n",
    "print(len(y)) "
   ]
  },
  {
   "cell_type": "code",
   "execution_count": 336,
   "metadata": {},
   "outputs": [
    {
     "data": {
      "text/plain": [
       "['a', 'b', 'c']"
      ]
     },
     "execution_count": 336,
     "metadata": {},
     "output_type": "execute_result"
    }
   ],
   "source": [
    "y"
   ]
  },
  {
   "cell_type": "code",
   "execution_count": 320,
   "metadata": {},
   "outputs": [
    {
     "data": {
      "text/plain": [
       "True"
      ]
     },
     "execution_count": 320,
     "metadata": {},
     "output_type": "execute_result"
    }
   ],
   "source": [
    "\"a\" in y"
   ]
  },
  {
   "cell_type": "code",
   "execution_count": 219,
   "metadata": {},
   "outputs": [
    {
     "data": {
      "text/plain": [
       "['a', 'b', 'c', 'a', 'b', 'c', 's']"
      ]
     },
     "execution_count": 219,
     "metadata": {},
     "output_type": "execute_result"
    }
   ],
   "source": [
    "y*2+['s']"
   ]
  },
  {
   "cell_type": "code",
   "execution_count": 88,
   "metadata": {},
   "outputs": [],
   "source": [
    "for i in range(5):\n",
    "    continue\n",
    "    print(i)"
   ]
  },
  {
   "cell_type": "code",
   "execution_count": null,
   "metadata": {},
   "outputs": [],
   "source": []
  }
 ],
 "metadata": {
  "kernelspec": {
   "display_name": "Python 3",
   "language": "python",
   "name": "python3"
  },
  "language_info": {
   "codemirror_mode": {
    "name": "ipython",
    "version": 3
   },
   "file_extension": ".py",
   "mimetype": "text/x-python",
   "name": "python",
   "nbconvert_exporter": "python",
   "pygments_lexer": "ipython3",
   "version": "3.7.4"
  }
 },
 "nbformat": 4,
 "nbformat_minor": 2
}
