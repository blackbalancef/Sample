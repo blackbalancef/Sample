{
 "cells": [
  {
   "cell_type": "markdown",
   "metadata": {},
   "source": [
    "# Определения Pi способом Архимеда"
   ]
  },
  {
   "cell_type": "code",
   "execution_count": 2,
   "metadata": {},
   "outputs": [],
   "source": [
    "import numpy as np\n",
    "import matplotlib.pyplot as plt\n",
    "def function(n, p=6, k=3): # Сторона правильного шестиугольника, вписанного в единичную окружность равна 1, а периметр 6\n",
    "    while(k<n):\n",
    "        k+=1\n",
    "        p = 2**k * np.sqrt(2 * (1-np.sqrt(1-(p / (2**k))**2 )))\n",
    "    return p/2"
   ]
  },
  {
   "cell_type": "code",
   "execution_count": 3,
   "metadata": {},
   "outputs": [
    {
     "name": "stdout",
     "output_type": "stream",
     "text": [
      "n = 3 : 3.0\n",
      "ошибка =  0.14159265358979312\n",
      "0.140625\n",
      " \n",
      "n = 4 : 3.0562761993101004\n",
      "ошибка =  0.0853164542796927\n",
      "0.036487594556521064\n",
      " \n",
      "n = 5 : 3.070443147254845\n",
      "ошибка =  0.07114950633494832\n",
      "0.00920666125051195\n",
      " \n",
      "n = 6 : 3.0739910241032087\n",
      "ошибка =  0.06760162948658444\n",
      "0.0023069875039714582\n",
      " \n",
      "n = 7 : 3.0748783773891093\n",
      "ошибка =  0.06671427620068382\n",
      "0.0005770798972006276\n",
      " \n",
      "n = 8 : 3.075100239720263\n",
      "ошибка =  0.06649241386952998\n",
      "0.00014429079413341706\n",
      " \n",
      "n = 9 : 3.075155706803996\n",
      "ошибка =  0.06643694678579726\n",
      "3.60739998668258e-05\n",
      " \n",
      "n = 10 : 3.07516957367192\n",
      "ошибка =  0.0664230799178731\n",
      "9.018581301534212e-06\n",
      " \n",
      "n = 11 : 3.075173040383863\n",
      "ошибка =  0.06641961320593026\n",
      "2.254650408817227e-06\n",
      " \n",
      "n = 12 : 3.075173906994989\n",
      "ошибка =  0.06641874659480429\n",
      "5.636629198946252e-07\n",
      " \n",
      "n = 13 : 3.075174123837015\n",
      "ошибка =  0.06641852975277818\n",
      "1.4091574984664845e-07\n",
      " \n",
      "n = 14 : 3.075174178350371\n",
      "ошибка =  0.06641847523942213\n",
      "3.5228938710663016e-08\n",
      " \n",
      "n = 15 : 3.075174185618818\n",
      "ошибка =  0.06641846797097495\n",
      "8.807234719299117e-09\n",
      " \n",
      "n = 16 : 3.075174185618818\n",
      "ошибка =  0.06641846797097495\n",
      "2.2018086798247793e-09\n",
      " \n",
      "n = 17 : 3.0751742243838707\n",
      "ошибка =  0.06641842920592245\n",
      "5.504521838339826e-10\n",
      " \n",
      "n = 18 : 3.075174069323658\n",
      "ошибка =  0.06641858426613512\n",
      "1.3761303208070788e-10\n",
      " \n",
      "n = 19 : 3.075174069323658\n",
      "ошибка =  0.06641858426613512\n",
      "3.440325802017697e-11\n",
      " \n",
      "n = 20 : 3.0751790312465954\n",
      "ошибка =  0.0664136223431977\n",
      "8.600842260619855e-12\n",
      " \n",
      "n = 21 : 3.0751889550684526\n",
      "ошибка =  0.06640369852134054\n",
      "2.1502244429427723e-12\n",
      " \n",
      "n = 22 : 3.075228650035636\n",
      "ошибка =  0.06636400355415706\n",
      "5.375699885235008e-13\n",
      " \n",
      "n = 23 : 3.075228650035636\n",
      "ошибка =  0.06636400355415706\n",
      "1.343924971308752e-13\n",
      " \n",
      "n = 24 : 3.074593469062211\n",
      "ошибка =  0.06699918452758213\n",
      "3.358424649491099e-14\n",
      " \n",
      "n = 25 : 3.082207001484488\n",
      "ошибка =  0.05938565210530511\n",
      "8.437694987151188e-15\n",
      " \n",
      "n = 26 : 3.082207001484488\n",
      "ошибка =  0.05938565210530511\n",
      "2.109423746787797e-15\n",
      " \n",
      "n = 27 : 3.1622776601683795\n",
      "ошибка =  -0.020685006578586407\n",
      "5.551115123125784e-16\n",
      " \n",
      "n = 28 : 3.4641016151377544\n",
      "ошибка =  -0.32250896154796127\n",
      "1.6653345369377346e-16\n",
      " \n",
      "n = 29 : 4.0\n",
      "ошибка =  -0.8584073464102069\n",
      "5.551115123125783e-17\n",
      " \n",
      "n = 30 : 0.0\n",
      "ошибка =  3.141592653589793\n",
      "0.0\n",
      " \n",
      "n = 31 : 0.0\n",
      "ошибка =  3.141592653589793\n",
      "0.0\n",
      " \n",
      "n = 32 : 0.0\n",
      "ошибка =  3.141592653589793\n",
      "0.0\n",
      " \n",
      "n = 33 : 0.0\n",
      "ошибка =  3.141592653589793\n",
      "0.0\n",
      " \n",
      "n = 34 : 0.0\n",
      "ошибка =  3.141592653589793\n",
      "0.0\n",
      " \n",
      "n = 35 : 0.0\n",
      "ошибка =  3.141592653589793\n",
      "0.0\n",
      " \n",
      "n = 36 : 0.0\n",
      "ошибка =  3.141592653589793\n",
      "0.0\n",
      " \n",
      "n = 37 : 0.0\n",
      "ошибка =  3.141592653589793\n",
      "0.0\n",
      " \n",
      "n = 38 : 0.0\n",
      "ошибка =  3.141592653589793\n",
      "0.0\n",
      " \n",
      "n = 39 : 0.0\n",
      "ошибка =  3.141592653589793\n",
      "0.0\n",
      " \n",
      "n = 40 : 0.0\n",
      "ошибка =  3.141592653589793\n",
      "0.0\n",
      " \n",
      "n = 41 : 0.0\n",
      "ошибка =  3.141592653589793\n",
      "0.0\n",
      " \n",
      "n = 42 : 0.0\n",
      "ошибка =  3.141592653589793\n",
      "0.0\n",
      " \n",
      "n = 43 : 0.0\n",
      "ошибка =  3.141592653589793\n",
      "0.0\n",
      " \n",
      "n = 44 : 0.0\n",
      "ошибка =  3.141592653589793\n",
      "0.0\n",
      " \n",
      "n = 45 : 0.0\n",
      "ошибка =  3.141592653589793\n",
      "0.0\n",
      " \n",
      "n = 46 : 0.0\n",
      "ошибка =  3.141592653589793\n",
      "0.0\n",
      " \n",
      "n = 47 : 0.0\n",
      "ошибка =  3.141592653589793\n",
      "0.0\n",
      " \n",
      "n = 48 : 0.0\n",
      "ошибка =  3.141592653589793\n",
      "0.0\n",
      " \n",
      "n = 49 : 0.0\n",
      "ошибка =  3.141592653589793\n",
      "0.0\n",
      " \n",
      "n = 50 : 0.0\n",
      "ошибка =  3.141592653589793\n",
      "0.0\n",
      " \n",
      "n = 51 : 0.0\n",
      "ошибка =  3.141592653589793\n",
      "0.0\n",
      " \n",
      "n = 52 : 0.0\n",
      "ошибка =  3.141592653589793\n",
      "0.0\n",
      " \n",
      "n = 53 : 0.0\n",
      "ошибка =  3.141592653589793\n",
      "0.0\n",
      " \n",
      "n = 54 : 0.0\n",
      "ошибка =  3.141592653589793\n",
      "0.0\n",
      " \n",
      "n = 55 : 0.0\n",
      "ошибка =  3.141592653589793\n",
      "0.0\n",
      " \n",
      "n = 56 : 0.0\n",
      "ошибка =  3.141592653589793\n",
      "0.0\n",
      " \n",
      "n = 57 : 0.0\n",
      "ошибка =  3.141592653589793\n",
      "0.0\n",
      " \n",
      "n = 58 : 0.0\n",
      "ошибка =  3.141592653589793\n",
      "0.0\n",
      " \n",
      "n = 59 : 0.0\n",
      "ошибка =  3.141592653589793\n",
      "0.0\n",
      " \n",
      "n = 60 : 0.0\n",
      "ошибка =  3.141592653589793\n",
      "0.0\n",
      " \n"
     ]
    }
   ],
   "source": [
    "for n in range(3, 61):\n",
    "    print('n = ' + str(n) + ' : ' + str(function(n)))\n",
    "    print('ошибка = ', np.pi-function(n))\n",
    "    print((function(n)/(2**n))**2)\n",
    "    print(' ')\n"
   ]
  },
  {
   "cell_type": "code",
   "execution_count": 4,
   "metadata": {},
   "outputs": [],
   "source": [
    "x = np.arange(3, 61)\n",
    "y = []\n",
    "for i in x:\n",
    "    y.append(function(i))"
   ]
  },
  {
   "cell_type": "code",
   "execution_count": 5,
   "metadata": {},
   "outputs": [],
   "source": [
    "from pylab import *"
   ]
  },
  {
   "cell_type": "code",
   "execution_count": 75,
   "metadata": {},
   "outputs": [],
   "source": [
    "%matplotlib inline"
   ]
  },
  {
   "cell_type": "code",
   "execution_count": 76,
   "metadata": {},
   "outputs": [
    {
     "data": {
      "image/png": "[encoded data removed]",
      "text/plain": [
       "<Figure size 432x288 with 1 Axes>"
      ]
     },
     "metadata": {
      "needs_background": "light"
     },
     "output_type": "display_data"
    }
   ],
   "source": [
    "figure()\n",
    "plot(x, y, 'r')\n",
    "xlabel('n')\n",
    "ylabel('Пи')\n",
    "title('Архимед')\n",
    "show()"
   ]
  },
  {
   "cell_type": "code",
   "execution_count": 77,
   "metadata": {},
   "outputs": [
    {
     "data": {
      "image/png": "[encoded data removed]",
      "text/plain": [
       "<Figure size 432x288 with 1 Axes>"
      ]
     },
     "metadata": {
      "needs_background": "light"
     },
     "output_type": "display_data"
    }
   ],
   "source": [
    "x = np.arange(3, 61)\n",
    "y = []\n",
    "for i in x:\n",
    "    y.append((np.pi-function(i))/np.pi)\n",
    "figure()\n",
    "plot(x, y, 'b')\n",
    "xlabel('n')\n",
    "title('Относительная ошибка')\n",
    "show()"
   ]
  },
  {
   "cell_type": "code",
   "execution_count": 78,
   "metadata": {},
   "outputs": [],
   "source": [
    "def newfunction(n, r = 2 / (2 + np.sqrt(2)), k=3):\n",
    "    while(k<=n):\n",
    "        p = 2**k * np.sqrt(r) / 2\n",
    "        r = r/(2+np.sqrt(4-r))\n",
    "        k+=1\n",
    "    return p\n",
    "def newfunctionr(n, r = 2 / (2 + np.sqrt(2)), k=3):\n",
    "    while(k<=n):\n",
    "        p = 2**k * np.sqrt(r) / 2\n",
    "        r = r/(2+np.sqrt(4-r))\n",
    "        k+=1\n",
    "    return r"
   ]
  },
  {
   "cell_type": "code",
   "execution_count": 79,
   "metadata": {},
   "outputs": [
    {
     "name": "stdout",
     "output_type": "stream",
     "text": [
      "n = 3 : 3.0614674589207183\n",
      "ошибка= 0.08012519466907486\n",
      "0.1522409349774265\n",
      " \n",
      "n = 4 : 3.1214451522580524\n",
      "ошибка= 0.020147501331740703\n",
      "0.038429439193539104\n",
      " \n",
      "n = 5 : 3.1365484905459393\n",
      "ошибка= 0.0050441630438538\n",
      "0.009630546655606228\n",
      " \n",
      "n = 6 : 3.140331156954753\n",
      "ошибка= 0.0012614966350401602\n",
      "0.0024090875896552147\n",
      " \n",
      "n = 7 : 3.141277250932773\n",
      "ошибка= 0.0003154026570202362\n",
      "0.0006023626075915598\n",
      " \n",
      "n = 8 : 3.1415138011443013\n",
      "ошибка= 7.885244549177273e-05\n",
      "0.00015059632171091815\n",
      " \n",
      "n = 9 : 3.1415729403670913\n",
      "ошибка= 1.971322270177822e-05\n",
      "3.764943479771468e-05\n",
      " \n",
      "n = 10 : 3.1415877252771596\n",
      "ошибка= 4.9283126335453176e-06\n",
      "9.412380847656975e-06\n",
      " \n",
      "n = 11 : 3.1415914215111997\n",
      "ошибка= 1.2320785933717104e-06\n",
      "2.3530965961801418e-06\n",
      " \n",
      "n = 12 : 3.1415923455701176\n",
      "ошибка= 3.080196755433917e-07\n",
      "5.882742355616795e-07\n",
      " \n",
      "n = 13 : 3.1415925765848725\n",
      "ошибка= 7.700492066220477e-08\n",
      "1.4706856429771052e-07\n",
      " \n",
      "n = 14 : 3.1415926343385627\n",
      "ошибка= 1.9251230387595797e-08\n",
      "3.67671414123833e-08\n",
      " \n",
      "n = 15 : 3.1415926487769856\n",
      "ошибка= 4.812807485876647e-09\n",
      "9.191785374218054e-09\n",
      " \n",
      "n = 16 : 3.141592652386591\n",
      "ошибка= 1.2032019824914642e-09\n",
      "2.2979463448746533e-09\n",
      " \n",
      "n = 17 : 3.141592653288993\n",
      "ошибка= 3.008002735782611e-10\n",
      "5.74486586301172e-10\n",
      " \n",
      "n = 18 : 3.141592653514593\n",
      "ошибка= 7.52002904391702e-11\n",
      "1.436216465804498e-10\n",
      " \n",
      "n = 19 : 3.141592653570993\n",
      "ошибка= 1.880007260979255e-11\n",
      "3.590541164543475e-11\n",
      " \n",
      "n = 20 : 3.1415926535850933\n",
      "ошибка= 4.699796107843213e-12\n",
      "8.976352911378831e-12\n",
      " \n",
      "n = 21 : 3.141592653588618\n",
      "ошибка= 1.1750600492632657e-12\n",
      "2.244088227845967e-12\n",
      " \n",
      "n = 22 : 3.1415926535894996\n",
      "ошибка= 2.935429677108914e-13\n",
      "5.610220569615706e-13\n",
      " \n",
      "n = 23 : 3.1415926535897203\n",
      "ошибка= 7.283063041541027e-14\n",
      "1.4025551424039756e-13\n",
      " \n",
      "n = 24 : 3.1415926535897754\n",
      "ошибка= 1.7763568394002505e-14\n",
      "3.50638785600997e-14\n",
      " \n",
      "n = 25 : 3.141592653589789\n",
      "ошибка= 3.9968028886505635e-15\n",
      "8.765969640024944e-15\n",
      " \n",
      "n = 26 : 3.1415926535897927\n",
      "ошибка= 4.440892098500626e-16\n",
      "2.191492410006237e-15\n",
      " \n",
      "n = 27 : 3.1415926535897936\n",
      "ошибка= -4.440892098500626e-16\n",
      "5.478731025015594e-16\n",
      " \n",
      "n = 28 : 3.1415926535897936\n",
      "ошибка= -4.440892098500626e-16\n",
      "1.3696827562538985e-16\n",
      " \n",
      "n = 29 : 3.1415926535897936\n",
      "ошибка= -4.440892098500626e-16\n",
      "3.424206890634746e-17\n",
      " \n",
      "n = 30 : 3.1415926535897936\n",
      "ошибка= -4.440892098500626e-16\n",
      "8.560517226586865e-18\n",
      " \n",
      "n = 31 : 3.1415926535897936\n",
      "ошибка= -4.440892098500626e-16\n",
      "2.1401293066467163e-18\n",
      " \n",
      "n = 32 : 3.1415926535897936\n",
      "ошибка= -4.440892098500626e-16\n",
      "5.350323266616791e-19\n",
      " \n",
      "n = 33 : 3.1415926535897936\n",
      "ошибка= -4.440892098500626e-16\n",
      "1.3375808166541977e-19\n",
      " \n",
      "n = 34 : 3.1415926535897936\n",
      "ошибка= -4.440892098500626e-16\n",
      "3.343952041635494e-20\n",
      " \n",
      "n = 35 : 3.1415926535897936\n",
      "ошибка= -4.440892098500626e-16\n",
      "8.359880104088736e-21\n",
      " \n",
      "n = 36 : 3.1415926535897936\n",
      "ошибка= -4.440892098500626e-16\n",
      "2.089970026022184e-21\n",
      " \n",
      "n = 37 : 3.1415926535897936\n",
      "ошибка= -4.440892098500626e-16\n",
      "5.22492506505546e-22\n",
      " \n",
      "n = 38 : 3.1415926535897936\n",
      "ошибка= -4.440892098500626e-16\n",
      "1.306231266263865e-22\n",
      " \n",
      "n = 39 : 3.1415926535897936\n",
      "ошибка= -4.440892098500626e-16\n",
      "3.2655781656596624e-23\n",
      " \n",
      "n = 40 : 3.1415926535897936\n",
      "ошибка= -4.440892098500626e-16\n",
      "8.163945414149156e-24\n",
      " \n",
      "n = 41 : 3.1415926535897936\n",
      "ошибка= -4.440892098500626e-16\n",
      "2.040986353537289e-24\n",
      " \n",
      "n = 42 : 3.1415926535897936\n",
      "ошибка= -4.440892098500626e-16\n",
      "5.102465883843222e-25\n",
      " \n",
      "n = 43 : 3.1415926535897936\n",
      "ошибка= -4.440892098500626e-16\n",
      "1.2756164709608056e-25\n",
      " \n",
      "n = 44 : 3.1415926535897936\n",
      "ошибка= -4.440892098500626e-16\n",
      "3.189041177402014e-26\n",
      " \n",
      "n = 45 : 3.1415926535897936\n",
      "ошибка= -4.440892098500626e-16\n",
      "7.972602943505035e-27\n",
      " \n",
      "n = 46 : 3.1415926535897936\n",
      "ошибка= -4.440892098500626e-16\n",
      "1.9931507358762588e-27\n",
      " \n",
      "n = 47 : 3.1415926535897936\n",
      "ошибка= -4.440892098500626e-16\n",
      "4.982876839690647e-28\n",
      " \n",
      "n = 48 : 3.1415926535897936\n",
      "ошибка= -4.440892098500626e-16\n",
      "1.2457192099226617e-28\n",
      " \n",
      "n = 49 : 3.1415926535897936\n",
      "ошибка= -4.440892098500626e-16\n",
      "3.1142980248066543e-29\n",
      " \n",
      "n = 50 : 3.1415926535897936\n",
      "ошибка= -4.440892098500626e-16\n",
      "7.785745062016636e-30\n",
      " \n",
      "n = 51 : 3.1415926535897936\n",
      "ошибка= -4.440892098500626e-16\n",
      "1.946436265504159e-30\n",
      " \n",
      "n = 52 : 3.1415926535897936\n",
      "ошибка= -4.440892098500626e-16\n",
      "4.866090663760397e-31\n",
      " \n",
      "n = 53 : 3.1415926535897936\n",
      "ошибка= -4.440892098500626e-16\n",
      "1.2165226659400993e-31\n",
      " \n",
      "n = 54 : 3.1415926535897936\n",
      "ошибка= -4.440892098500626e-16\n",
      "3.0413066648502484e-32\n",
      " \n",
      "n = 55 : 3.1415926535897936\n",
      "ошибка= -4.440892098500626e-16\n",
      "7.603266662125621e-33\n",
      " \n",
      "n = 56 : 3.1415926535897936\n",
      "ошибка= -4.440892098500626e-16\n",
      "1.9008166655314052e-33\n",
      " \n",
      "n = 57 : 3.1415926535897936\n",
      "ошибка= -4.440892098500626e-16\n",
      "4.752041663828513e-34\n",
      " \n",
      "n = 58 : 3.1415926535897936\n",
      "ошибка= -4.440892098500626e-16\n",
      "1.1880104159571283e-34\n",
      " \n",
      "n = 59 : 3.1415926535897936\n",
      "ошибка= -4.440892098500626e-16\n",
      "2.9700260398928207e-35\n",
      " \n",
      "n = 60 : 3.1415926535897936\n",
      "ошибка= -4.440892098500626e-16\n",
      "7.425065099732052e-36\n",
      " \n"
     ]
    }
   ],
   "source": [
    "for n in range(3, 61):\n",
    "    print('n = ' + str(n) + ' : ' + str(newfunction(n)))\n",
    "    print('ошибка= '+str(np.pi-newfunction(n)))\n",
    "    print(newfunctionr(n))\n",
    "    print(' ')"
   ]
  },
  {
   "cell_type": "code",
   "execution_count": 80,
   "metadata": {},
   "outputs": [
    {
     "data": {
      "image/png": "[encoded data removed]",
      "text/plain": [
       "<Figure size 432x288 with 1 Axes>"
      ]
     },
     "metadata": {
      "needs_background": "light"
     },
     "output_type": "display_data"
    }
   ],
   "source": [
    "x = np.arange(3, 61)\n",
    "y = []\n",
    "for i in x:\n",
    "    y.append(newfunction(i))\n",
    "figure()\n",
    "plot(x, y, 'r')\n",
    "xlabel('n')\n",
    "ylabel('Пи')\n",
    "title('Архимед new')\n",
    "show()"
   ]
  },
  {
   "cell_type": "code",
   "execution_count": 81,
   "metadata": {},
   "outputs": [
    {
     "data": {
      "image/png": "[encoded data removed]",
      "text/plain": [
       "<Figure size 432x288 with 1 Axes>"
      ]
     },
     "metadata": {
      "needs_background": "light"
     },
     "output_type": "display_data"
    }
   ],
   "source": [
    "x = np.arange(3, 61)\n",
    "y = []\n",
    "for i in x:\n",
    "    y.append((np.pi-newfunction(i))/np.pi)\n",
    "figure()\n",
    "plot(x, y, 'b')\n",
    "xlabel('n')\n",
    "title('Относительная ошибка')\n",
    "show()"
   ]
  },
  {
   "cell_type": "code",
   "execution_count": 82,
   "metadata": {},
   "outputs": [
    {
     "data": {
      "image/png": "[encoded data removed]",
      "text/plain": [
       "<Figure size 432x288 with 1 Axes>"
      ]
     },
     "metadata": {
      "needs_background": "light"
     },
     "output_type": "display_data"
    }
   ],
   "source": [
    "x = np.arange(3, 1000)\n",
    "y = []\n",
    "for i in x:\n",
    "    y.append(newfunction(i))\n",
    "figure()\n",
    "plot(x, y, 'r')\n",
    "xlabel('n')\n",
    "ylabel('Пи')\n",
    "title('Архимед new')\n",
    "show()"
   ]
  },
  {
   "cell_type": "markdown",
   "metadata": {},
   "source": [
    "# 10.6 (И) a=100 bij=i/j fi=i"
   ]
  },
  {
   "cell_type": "code",
   "execution_count": 83,
   "metadata": {},
   "outputs": [],
   "source": [
    "def b(i, j):\n",
    "    return (i+1)/(j+1)"
   ]
  },
  {
   "cell_type": "code",
   "execution_count": 84,
   "metadata": {},
   "outputs": [],
   "source": [
    "def f(i,j):\n",
    "    return i"
   ]
  },
  {
   "cell_type": "code",
   "execution_count": 85,
   "metadata": {},
   "outputs": [],
   "source": [
    "imax=100"
   ]
  },
  {
   "cell_type": "code",
   "execution_count": 86,
   "metadata": {},
   "outputs": [],
   "source": [
    "a=int()\n",
    "a=100"
   ]
  },
  {
   "cell_type": "code",
   "execution_count": 87,
   "metadata": {},
   "outputs": [],
   "source": [
    "np.fromfunction(f, (imax,1))\n",
    "mf=np.fromfunction(f, (imax,1))"
   ]
  },
  {
   "cell_type": "code",
   "execution_count": 88,
   "metadata": {},
   "outputs": [],
   "source": [
    "bm=np.fromfunction(b, (100,100))"
   ]
  },
  {
   "cell_type": "code",
   "execution_count": 89,
   "metadata": {
    "scrolled": true
   },
   "outputs": [
    {
     "data": {
      "text/plain": [
       "array([[1.00000000e+00, 5.00000000e-01, 3.33333333e-01, ...,\n",
       "        1.02040816e-02, 1.01010101e-02, 1.00000000e-02],\n",
       "       [2.00000000e+00, 1.00000000e+00, 6.66666667e-01, ...,\n",
       "        2.04081633e-02, 2.02020202e-02, 2.00000000e-02],\n",
       "       [3.00000000e+00, 1.50000000e+00, 1.00000000e+00, ...,\n",
       "        3.06122449e-02, 3.03030303e-02, 3.00000000e-02],\n",
       "       ...,\n",
       "       [9.80000000e+01, 4.90000000e+01, 3.26666667e+01, ...,\n",
       "        1.00000000e+00, 9.89898990e-01, 9.80000000e-01],\n",
       "       [9.90000000e+01, 4.95000000e+01, 3.30000000e+01, ...,\n",
       "        1.01020408e+00, 1.00000000e+00, 9.90000000e-01],\n",
       "       [1.00000000e+02, 5.00000000e+01, 3.33333333e+01, ...,\n",
       "        1.02040816e+00, 1.01010101e+00, 1.00000000e+00]])"
      ]
     },
     "execution_count": 89,
     "metadata": {},
     "output_type": "execute_result"
    }
   ],
   "source": [
    "bm"
   ]
  },
  {
   "cell_type": "code",
   "execution_count": 90,
   "metadata": {},
   "outputs": [],
   "source": [
    "am=np.eye(100)*a"
   ]
  },
  {
   "cell_type": "code",
   "execution_count": 91,
   "metadata": {},
   "outputs": [
    {
     "data": {
      "text/plain": [
       "(100, 100)"
      ]
     },
     "execution_count": 91,
     "metadata": {},
     "output_type": "execute_result"
    }
   ],
   "source": [
    "am.shape"
   ]
  },
  {
   "cell_type": "markdown",
   "metadata": {},
   "source": [
    "Сделаю почти L матрицу как по условиую"
   ]
  },
  {
   "cell_type": "code",
   "execution_count": 92,
   "metadata": {},
   "outputs": [],
   "source": [
    "for i in range(1,100,1):\n",
    "    for j in range(1,98-i,1):\n",
    "        bm[i,3+j]=0\n",
    "    bm[i,i]=0\n"
   ]
  },
  {
   "cell_type": "code",
   "execution_count": 93,
   "metadata": {},
   "outputs": [
    {
     "data": {
      "text/plain": [
       "0.0"
      ]
     },
     "execution_count": 93,
     "metadata": {},
     "output_type": "execute_result"
    }
   ],
   "source": [
    "bm[99,99]"
   ]
  },
  {
   "cell_type": "code",
   "execution_count": 94,
   "metadata": {},
   "outputs": [
    {
     "data": {
      "text/plain": [
       "0.0"
      ]
     },
     "execution_count": 94,
     "metadata": {},
     "output_type": "execute_result"
    }
   ],
   "source": [
    "bm[1,4]"
   ]
  },
  {
   "cell_type": "code",
   "execution_count": 95,
   "metadata": {
    "scrolled": true
   },
   "outputs": [],
   "source": [
    "mlast=bm+am"
   ]
  },
  {
   "cell_type": "code",
   "execution_count": 96,
   "metadata": {},
   "outputs": [
    {
     "data": {
      "text/plain": [
       "array([[1.01000000e+02, 5.00000000e-01, 3.33333333e-01, ...,\n",
       "        1.02040816e-02, 1.01010101e-02, 1.00000000e-02],\n",
       "       [2.00000000e+00, 1.00000000e+02, 6.66666667e-01, ...,\n",
       "        0.00000000e+00, 0.00000000e+00, 0.00000000e+00],\n",
       "       [3.00000000e+00, 1.50000000e+00, 1.00000000e+02, ...,\n",
       "        0.00000000e+00, 0.00000000e+00, 3.00000000e-02],\n",
       "       ...,\n",
       "       [9.80000000e+01, 4.90000000e+01, 3.26666667e+01, ...,\n",
       "        1.00000000e+02, 9.89898990e-01, 9.80000000e-01],\n",
       "       [9.90000000e+01, 4.95000000e+01, 3.30000000e+01, ...,\n",
       "        1.01020408e+00, 1.00000000e+02, 9.90000000e-01],\n",
       "       [1.00000000e+02, 5.00000000e+01, 3.33333333e+01, ...,\n",
       "        1.02040816e+00, 1.01010101e+00, 1.00000000e+02]])"
      ]
     },
     "execution_count": 96,
     "metadata": {},
     "output_type": "execute_result"
    }
   ],
   "source": [
    "mlast"
   ]
  },
  {
   "cell_type": "code",
   "execution_count": 97,
   "metadata": {},
   "outputs": [],
   "source": [
    "mx=np.zeros(100) #беру начальное приближение"
   ]
  },
  {
   "cell_type": "code",
   "execution_count": 98,
   "metadata": {},
   "outputs": [
    {
     "data": {
      "text/plain": [
       "(100,)"
      ]
     },
     "execution_count": 98,
     "metadata": {},
     "output_type": "execute_result"
    }
   ],
   "source": [
    "mx.shape"
   ]
  },
  {
   "cell_type": "markdown",
   "metadata": {},
   "source": [
    "Якоби"
   ]
  },
  {
   "cell_type": "code",
   "execution_count": 99,
   "metadata": {},
   "outputs": [],
   "source": [
    "s1=[]\n",
    "s2=[]"
   ]
  },
  {
   "cell_type": "code",
   "execution_count": 100,
   "metadata": {},
   "outputs": [
    {
     "ename": "TypeError",
     "evalue": "data type not understood",
     "output_type": "error",
     "traceback": [
      "\u001b[0;31m---------------------------------------------------------------------------\u001b[0m",
      "\u001b[0;31mTypeError\u001b[0m                                 Traceback (most recent call last)",
      "\u001b[0;32m<ipython-input-100-738e5b0e2bb0>\u001b[0m in \u001b[0;36m<module>\u001b[0;34m\u001b[0m\n\u001b[0;32m----> 1\u001b[0;31m \u001b[0ms1\u001b[0m\u001b[0;34m=\u001b[0m\u001b[0mnp\u001b[0m\u001b[0;34m.\u001b[0m\u001b[0mzeros\u001b[0m\u001b[0;34m(\u001b[0m\u001b[0;36m100\u001b[0m\u001b[0;34m,\u001b[0m\u001b[0;36m100\u001b[0m\u001b[0;34m)\u001b[0m\u001b[0;34m\u001b[0m\u001b[0;34m\u001b[0m\u001b[0m\n\u001b[0m\u001b[1;32m      2\u001b[0m \u001b[0ms2\u001b[0m\u001b[0;34m=\u001b[0m\u001b[0mnp\u001b[0m\u001b[0;34m.\u001b[0m\u001b[0mzeros\u001b[0m\u001b[0;34m(\u001b[0m\u001b[0;36m100\u001b[0m\u001b[0;34m,\u001b[0m\u001b[0;36m100\u001b[0m\u001b[0;34m)\u001b[0m\u001b[0;34m\u001b[0m\u001b[0;34m\u001b[0m\u001b[0m\n",
      "\u001b[0;31mTypeError\u001b[0m: data type not understood"
     ]
    }
   ],
   "source": [
    "s1=np.zeros(100,100)\n",
    "s2=np.zeros(100,100)"
   ]
  },
  {
   "cell_type": "code",
   "execution_count": null,
   "metadata": {},
   "outputs": [],
   "source": [
    "for j in range(1,i):\n",
    "    s1[i]+=mlast[i,j]*mx[j]\n",
    "s1"
   ]
  },
  {
   "cell_type": "code",
   "execution_count": 101,
   "metadata": {},
   "outputs": [
    {
     "data": {
      "text/plain": [
       "[]"
      ]
     },
     "execution_count": 101,
     "metadata": {},
     "output_type": "execute_result"
    }
   ],
   "source": [
    "for j in range(i+1,100):\n",
    "    s2[i]+=mlast[i,j]*mx[j]\n",
    "s2"
   ]
  },
  {
   "cell_type": "markdown",
   "metadata": {},
   "source": [
    "Якоби"
   ]
  },
  {
   "cell_type": "code",
   "execution_count": 102,
   "metadata": {},
   "outputs": [
    {
     "ename": "IndexError",
     "evalue": "list index out of range",
     "output_type": "error",
     "traceback": [
      "\u001b[0;31m---------------------------------------------------------------------------\u001b[0m",
      "\u001b[0;31mIndexError\u001b[0m                                Traceback (most recent call last)",
      "\u001b[0;32m<ipython-input-102-16a38b86596f>\u001b[0m in \u001b[0;36m<module>\u001b[0;34m\u001b[0m\n\u001b[1;32m      1\u001b[0m \u001b[0;32mfor\u001b[0m \u001b[0mj\u001b[0m \u001b[0;32min\u001b[0m \u001b[0mrange\u001b[0m\u001b[0;34m(\u001b[0m\u001b[0;36m1\u001b[0m\u001b[0;34m,\u001b[0m\u001b[0mi\u001b[0m\u001b[0;34m)\u001b[0m\u001b[0;34m:\u001b[0m\u001b[0;34m\u001b[0m\u001b[0;34m\u001b[0m\u001b[0m\n\u001b[0;32m----> 2\u001b[0;31m         \u001b[0ms1\u001b[0m\u001b[0;34m[\u001b[0m\u001b[0mi\u001b[0m\u001b[0;34m]\u001b[0m\u001b[0;34m+=\u001b[0m\u001b[0mmlast\u001b[0m\u001b[0;34m[\u001b[0m\u001b[0mi\u001b[0m\u001b[0;34m,\u001b[0m\u001b[0mj\u001b[0m\u001b[0;34m]\u001b[0m\u001b[0;34m*\u001b[0m\u001b[0mmx\u001b[0m\u001b[0;34m[\u001b[0m\u001b[0mj\u001b[0m\u001b[0;34m]\u001b[0m\u001b[0;34m\u001b[0m\u001b[0;34m\u001b[0m\u001b[0m\n\u001b[0m\u001b[1;32m      3\u001b[0m \u001b[0;32mfor\u001b[0m \u001b[0mj\u001b[0m \u001b[0;32min\u001b[0m \u001b[0mrange\u001b[0m\u001b[0;34m(\u001b[0m\u001b[0mi\u001b[0m\u001b[0;34m+\u001b[0m\u001b[0;36m1\u001b[0m\u001b[0;34m,\u001b[0m\u001b[0;36m100\u001b[0m\u001b[0;34m)\u001b[0m\u001b[0;34m:\u001b[0m\u001b[0;34m\u001b[0m\u001b[0;34m\u001b[0m\u001b[0m\n\u001b[1;32m      4\u001b[0m         \u001b[0ms2\u001b[0m\u001b[0;34m[\u001b[0m\u001b[0mi\u001b[0m\u001b[0;34m]\u001b[0m\u001b[0;34m+=\u001b[0m\u001b[0mmlast\u001b[0m\u001b[0;34m[\u001b[0m\u001b[0mi\u001b[0m\u001b[0;34m,\u001b[0m\u001b[0mj\u001b[0m\u001b[0;34m]\u001b[0m\u001b[0;34m*\u001b[0m\u001b[0mmx\u001b[0m\u001b[0;34m[\u001b[0m\u001b[0mj\u001b[0m\u001b[0;34m]\u001b[0m\u001b[0;34m\u001b[0m\u001b[0;34m\u001b[0m\u001b[0m\n\u001b[1;32m      5\u001b[0m \u001b[0;32mfor\u001b[0m \u001b[0mi\u001b[0m \u001b[0;32min\u001b[0m \u001b[0mrange\u001b[0m\u001b[0;34m(\u001b[0m\u001b[0;36m1\u001b[0m\u001b[0;34m,\u001b[0m\u001b[0;36m100\u001b[0m\u001b[0;34m,\u001b[0m\u001b[0;36m1\u001b[0m\u001b[0;34m)\u001b[0m\u001b[0;34m:\u001b[0m\u001b[0;34m\u001b[0m\u001b[0;34m\u001b[0m\u001b[0m\n",
      "\u001b[0;31mIndexError\u001b[0m: list index out of range"
     ]
    }
   ],
   "source": [
    "for j in range(1,i):\n",
    "        s1[i]+=mlast[i,j]*mx[j]\n",
    "for j in range(i+1,100):\n",
    "        s2[i]+=mlast[i,j]*mx[j]\n",
    "for i in range(1,100,1):\n",
    "    mx[i]=(mf[i]-s1[i]-s2[i])/mlast[i,i]\n",
    "    s1=0\n",
    "    s2=0"
   ]
  },
  {
   "cell_type": "markdown",
   "metadata": {},
   "source": [
    "Зейдель"
   ]
  },
  {
   "cell_type": "code",
   "execution_count": 103,
   "metadata": {},
   "outputs": [
    {
     "ename": "ValueError",
     "evalue": "setting an array element with a sequence.",
     "output_type": "error",
     "traceback": [
      "\u001b[0;31m---------------------------------------------------------------------------\u001b[0m",
      "\u001b[0;31mValueError\u001b[0m                                Traceback (most recent call last)",
      "\u001b[0;32m<ipython-input-103-69cc04692dad>\u001b[0m in \u001b[0;36m<module>\u001b[0;34m\u001b[0m\n\u001b[1;32m      4\u001b[0m     \u001b[0;32mfor\u001b[0m \u001b[0mj\u001b[0m \u001b[0;32min\u001b[0m \u001b[0mrange\u001b[0m\u001b[0;34m(\u001b[0m\u001b[0;36m1\u001b[0m\u001b[0;34m,\u001b[0m\u001b[0mi\u001b[0m\u001b[0;34m)\u001b[0m\u001b[0;34m:\u001b[0m\u001b[0;34m\u001b[0m\u001b[0;34m\u001b[0m\u001b[0m\n\u001b[1;32m      5\u001b[0m         \u001b[0ms1\u001b[0m\u001b[0;34m+=\u001b[0m\u001b[0mmlast\u001b[0m\u001b[0;34m[\u001b[0m\u001b[0mi\u001b[0m\u001b[0;34m,\u001b[0m\u001b[0mj\u001b[0m\u001b[0;34m]\u001b[0m\u001b[0;34m*\u001b[0m\u001b[0mmx\u001b[0m\u001b[0;34m[\u001b[0m\u001b[0mj\u001b[0m\u001b[0;34m]\u001b[0m\u001b[0;34m\u001b[0m\u001b[0;34m\u001b[0m\u001b[0m\n\u001b[0;32m----> 6\u001b[0;31m     \u001b[0mmx\u001b[0m\u001b[0;34m[\u001b[0m\u001b[0mi\u001b[0m\u001b[0;34m]\u001b[0m\u001b[0;34m=\u001b[0m\u001b[0;34m(\u001b[0m\u001b[0mmf\u001b[0m\u001b[0;34m[\u001b[0m\u001b[0mi\u001b[0m\u001b[0;34m]\u001b[0m\u001b[0;34m-\u001b[0m\u001b[0ms1\u001b[0m\u001b[0;34m-\u001b[0m\u001b[0ms2\u001b[0m\u001b[0;34m)\u001b[0m\u001b[0;34m/\u001b[0m\u001b[0mmlast\u001b[0m\u001b[0;34m[\u001b[0m\u001b[0mi\u001b[0m\u001b[0;34m,\u001b[0m\u001b[0mi\u001b[0m\u001b[0;34m]\u001b[0m\u001b[0;34m\u001b[0m\u001b[0;34m\u001b[0m\u001b[0m\n\u001b[0m\u001b[1;32m      7\u001b[0m     \u001b[0ms1\u001b[0m\u001b[0;34m=\u001b[0m\u001b[0;36m0\u001b[0m\u001b[0;34m\u001b[0m\u001b[0;34m\u001b[0m\u001b[0m\n\u001b[1;32m      8\u001b[0m     \u001b[0ms2\u001b[0m\u001b[0;34m=\u001b[0m\u001b[0;36m0\u001b[0m\u001b[0;34m\u001b[0m\u001b[0;34m\u001b[0m\u001b[0m\n",
      "\u001b[0;31mValueError\u001b[0m: setting an array element with a sequence."
     ]
    }
   ],
   "source": [
    "for j in range(i+1,100):\n",
    "        s2+=mlast[i,j]*mx[j]\n",
    "for i in range(1,100,1):\n",
    "    for j in range(1,i):\n",
    "        s1+=mlast[i,j]*mx[j]\n",
    "    mx[i]=(mf[i]-s1-s2)/mlast[i,i]\n",
    "    s1=0\n",
    "    s2=0\n",
    "\n"
   ]
  },
  {
   "cell_type": "code",
   "execution_count": 104,
   "metadata": {},
   "outputs": [
    {
     "ename": "ValueError",
     "evalue": "setting an array element with a sequence.",
     "output_type": "error",
     "traceback": [
      "\u001b[0;31m---------------------------------------------------------------------------\u001b[0m",
      "\u001b[0;31mValueError\u001b[0m                                Traceback (most recent call last)",
      "\u001b[0;32m<ipython-input-104-1f7993f17468>\u001b[0m in \u001b[0;36m<module>\u001b[0;34m\u001b[0m\n\u001b[1;32m      5\u001b[0m         \u001b[0;32mfor\u001b[0m \u001b[0mj\u001b[0m \u001b[0;32min\u001b[0m \u001b[0mrange\u001b[0m\u001b[0;34m(\u001b[0m\u001b[0;36m1\u001b[0m\u001b[0;34m,\u001b[0m\u001b[0mi\u001b[0m\u001b[0;34m)\u001b[0m\u001b[0;34m:\u001b[0m\u001b[0;34m\u001b[0m\u001b[0;34m\u001b[0m\u001b[0m\n\u001b[1;32m      6\u001b[0m             \u001b[0ms1\u001b[0m\u001b[0;34m+=\u001b[0m\u001b[0mmlast\u001b[0m\u001b[0;34m[\u001b[0m\u001b[0mi\u001b[0m\u001b[0;34m,\u001b[0m\u001b[0mj\u001b[0m\u001b[0;34m]\u001b[0m\u001b[0;34m*\u001b[0m\u001b[0mmx\u001b[0m\u001b[0;34m[\u001b[0m\u001b[0mj\u001b[0m\u001b[0;34m]\u001b[0m\u001b[0;34m\u001b[0m\u001b[0;34m\u001b[0m\u001b[0m\n\u001b[0;32m----> 7\u001b[0;31m         \u001b[0mmx\u001b[0m\u001b[0;34m[\u001b[0m\u001b[0mi\u001b[0m\u001b[0;34m]\u001b[0m\u001b[0;34m=\u001b[0m\u001b[0;34m(\u001b[0m\u001b[0mmf\u001b[0m\u001b[0;34m[\u001b[0m\u001b[0mi\u001b[0m\u001b[0;34m]\u001b[0m\u001b[0;34m-\u001b[0m\u001b[0ms1\u001b[0m\u001b[0;34m-\u001b[0m\u001b[0ms2\u001b[0m\u001b[0;34m)\u001b[0m\u001b[0;34m/\u001b[0m\u001b[0mmlast\u001b[0m\u001b[0;34m[\u001b[0m\u001b[0mi\u001b[0m\u001b[0;34m,\u001b[0m\u001b[0mi\u001b[0m\u001b[0;34m]\u001b[0m\u001b[0;34m\u001b[0m\u001b[0;34m\u001b[0m\u001b[0m\n\u001b[0m\u001b[1;32m      8\u001b[0m         \u001b[0ms1\u001b[0m\u001b[0;34m=\u001b[0m\u001b[0;36m0\u001b[0m\u001b[0;34m\u001b[0m\u001b[0;34m\u001b[0m\u001b[0m\n\u001b[1;32m      9\u001b[0m         \u001b[0ms2\u001b[0m\u001b[0;34m=\u001b[0m\u001b[0;36m0\u001b[0m\u001b[0;34m\u001b[0m\u001b[0;34m\u001b[0m\u001b[0m\n",
      "\u001b[0;31mValueError\u001b[0m: setting an array element with a sequence."
     ]
    }
   ],
   "source": [
    "for s in range(1,100):\n",
    "    for j in range(i+1,100):\n",
    "        s2+=mlast[i,j]*mx[j]\n",
    "    for i in range(1,100,1):\n",
    "        for j in range(1,i):\n",
    "            s1+=mlast[i,j]*mx[j]\n",
    "        mx[i]=(mf[i]-s1-s2)/mlast[i,i]\n",
    "        s1=0\n",
    "        s2=0"
   ]
  },
  {
   "cell_type": "code",
   "execution_count": 105,
   "metadata": {},
   "outputs": [],
   "source": [
    "r=mf-np.dot(mlast,mx)"
   ]
  },
  {
   "cell_type": "code",
   "execution_count": 106,
   "metadata": {},
   "outputs": [
    {
     "data": {
      "text/plain": [
       "5730.183243143277"
      ]
     },
     "execution_count": 106,
     "metadata": {},
     "output_type": "execute_result"
    }
   ],
   "source": [
    "linalg.norm(r, ord=None)"
   ]
  },
  {
   "cell_type": "code",
   "execution_count": 107,
   "metadata": {},
   "outputs": [
    {
     "ename": "ValueError",
     "evalue": "setting an array element with a sequence.",
     "output_type": "error",
     "traceback": [
      "\u001b[0;31m---------------------------------------------------------------------------\u001b[0m",
      "\u001b[0;31mValueError\u001b[0m                                Traceback (most recent call last)",
      "\u001b[0;32m<ipython-input-107-e168a86c1323>\u001b[0m in \u001b[0;36m<module>\u001b[0;34m\u001b[0m\n\u001b[1;32m      5\u001b[0m     \u001b[0;32mfor\u001b[0m \u001b[0mj\u001b[0m \u001b[0;32min\u001b[0m \u001b[0mrange\u001b[0m\u001b[0;34m(\u001b[0m\u001b[0;36m1\u001b[0m\u001b[0;34m,\u001b[0m\u001b[0mi\u001b[0m\u001b[0;34m)\u001b[0m\u001b[0;34m:\u001b[0m\u001b[0;34m\u001b[0m\u001b[0;34m\u001b[0m\u001b[0m\n\u001b[1;32m      6\u001b[0m         \u001b[0ms1\u001b[0m\u001b[0;34m+=\u001b[0m\u001b[0mmlast\u001b[0m\u001b[0;34m[\u001b[0m\u001b[0mi\u001b[0m\u001b[0;34m,\u001b[0m\u001b[0mj\u001b[0m\u001b[0;34m]\u001b[0m\u001b[0;34m*\u001b[0m\u001b[0mmx\u001b[0m\u001b[0;34m[\u001b[0m\u001b[0mj\u001b[0m\u001b[0;34m]\u001b[0m\u001b[0;34m\u001b[0m\u001b[0;34m\u001b[0m\u001b[0m\n\u001b[0;32m----> 7\u001b[0;31m     \u001b[0mmx\u001b[0m\u001b[0;34m[\u001b[0m\u001b[0mi\u001b[0m\u001b[0;34m]\u001b[0m\u001b[0;34m=\u001b[0m\u001b[0;34m(\u001b[0m\u001b[0mmf\u001b[0m\u001b[0;34m[\u001b[0m\u001b[0mi\u001b[0m\u001b[0;34m]\u001b[0m\u001b[0;34m-\u001b[0m\u001b[0ms1\u001b[0m\u001b[0;34m-\u001b[0m\u001b[0ms2\u001b[0m\u001b[0;34m)\u001b[0m\u001b[0;34m/\u001b[0m\u001b[0mmlast\u001b[0m\u001b[0;34m[\u001b[0m\u001b[0mi\u001b[0m\u001b[0;34m,\u001b[0m\u001b[0mi\u001b[0m\u001b[0;34m]\u001b[0m\u001b[0;34m\u001b[0m\u001b[0;34m\u001b[0m\u001b[0m\n\u001b[0m\u001b[1;32m      8\u001b[0m     \u001b[0ms1\u001b[0m\u001b[0;34m=\u001b[0m\u001b[0;36m0\u001b[0m\u001b[0;34m\u001b[0m\u001b[0;34m\u001b[0m\u001b[0m\n\u001b[1;32m      9\u001b[0m     \u001b[0ms2\u001b[0m\u001b[0;34m=\u001b[0m\u001b[0;36m0\u001b[0m\u001b[0;34m\u001b[0m\u001b[0;34m\u001b[0m\u001b[0m\n",
      "\u001b[0;31mValueError\u001b[0m: setting an array element with a sequence."
     ]
    }
   ],
   "source": [
    "for s in range(1,100):\n",
    "    for j in range(i+1,100):\n",
    "        s2+=mlast[i,j]*mx[j]\n",
    "for i in range(1,100,1):\n",
    "    for j in range(1,i):\n",
    "        s1+=mlast[i,j]*mx[j]\n",
    "    mx[i]=(mf[i]-s1-s2)/mlast[i,i]\n",
    "    s1=0\n",
    "    s2=0"
   ]
  },
  {
   "cell_type": "code",
   "execution_count": 108,
   "metadata": {},
   "outputs": [
    {
     "data": {
      "text/plain": [
       "5730.183243143277"
      ]
     },
     "execution_count": 108,
     "metadata": {},
     "output_type": "execute_result"
    }
   ],
   "source": [
    "linalg.norm(r, ord=None)"
   ]
  },
  {
   "cell_type": "code",
   "execution_count": null,
   "metadata": {},
   "outputs": [],
   "source": []
  },
  {
   "cell_type": "markdown",
   "metadata": {},
   "source": [
    "# III.5.11. Постройте наилучшую среднеквадратическую линейную аппрок-симацию для функции  (x) = 1/x при x=[1; 2]\n"
   ]
  },
  {
   "cell_type": "markdown",
   "metadata": {},
   "source": [
    "## Задача 5.12ав\n",
    "Согласно переписи население США менялось следующим обра-\n",
    "зом:\n",
    "\n",
    "1910 – 92 228 496 человек,\n",
    "\n",
    "1920 – 106 021 537,\n",
    "\n",
    "1930 – 123 202 624,\n",
    "\n",
    "1940 – 132 164 569,\n",
    "\n",
    "1950 – 151 325 798,\n",
    "\n",
    "1960 – 179 323 175,\n",
    "\n",
    "1970 – 203 211 926,\n",
    "\n",
    "1980 – 226 545 805,\n",
    "\n",
    "1990 – 248 709 873,\n",
    "\n",
    "2000 – 281 421 906.\n",
    "\n",
    "Используя многочлены степеней N = 2, 3, 4, 5, построить аппроксимацию этих данных в смысле МНК. Аппроксимацию можно строить на основе базисных многочленов следующих видов:"
   ]
  },
  {
   "cell_type": "code",
   "execution_count": 109,
   "metadata": {},
   "outputs": [],
   "source": [
    "x = np.arange(1910, 2010, 10)\n",
    "M = len(x)\n",
    "y = np.array([92228496, 106021537, 123202624, 132164569, 151325798, 179323175, 203211926, 226545805, 248709873, 281421906])"
   ]
  },
  {
   "cell_type": "code",
   "execution_count": 110,
   "metadata": {},
   "outputs": [
    {
     "data": {
      "text/plain": [
       "10"
      ]
     },
     "execution_count": 110,
     "metadata": {},
     "output_type": "execute_result"
    }
   ],
   "source": [
    "M"
   ]
  },
  {
   "cell_type": "code",
   "execution_count": 111,
   "metadata": {},
   "outputs": [
    {
     "name": "stdout",
     "output_type": "stream",
     "text": [
      "[array([ 3.55745002e+10, -3.83202592e+07,  1.03367964e+04])]\n",
      "[array([ 3.55745002e+10, -3.83202592e+07,  1.03367964e+04]), array([ 3.53255269e+10, -3.79381054e+07,  1.01412964e+04,  3.33333336e-02])]\n",
      "[array([ 3.55745002e+10, -3.83202592e+07,  1.03367964e+04]), array([ 3.53255269e+10, -3.79381054e+07,  1.01412964e+04,  3.33333336e-02]), array([-3.49904998e+09,  1.78870407e+06, -1.90110999e+01,  3.33329571e-02,\n",
      "       -9.69393243e-11])]\n",
      "[array([ 3.55745002e+10, -3.83202592e+07,  1.03367964e+04]), array([ 3.53255269e+10, -3.79381054e+07,  1.01412964e+04,  3.33333336e-02]), array([-3.49904998e+09,  1.78870407e+06, -1.90110999e+01,  3.33329571e-02,\n",
      "       -9.69393243e-11]), array([-1.06058632e+04,  4.61323522e+02, -1.92078297e+01,  3.32322314e-02,\n",
      "       -5.16695313e-08, -2.67395417e-11])]\n"
     ]
    }
   ],
   "source": [
    "def solution(x, y, N):\n",
    "    A = np.full((N,M),1)\n",
    "    for i in range(1, N):\n",
    "        for j in range(0,M):\n",
    "            A[i][j] = x[j]**i\n",
    "\n",
    "    A2 = np.dot(A, A.T)\n",
    "    f = np.dot(A, y)\n",
    "    return np.linalg.solve(A2,f)\n",
    "\n",
    "C = []\n",
    "for i in range(2,6):\n",
    "    C.append(solution(x,y,i+1)) \n",
    "    print(C)"
   ]
  },
  {
   "cell_type": "code",
   "execution_count": 112,
   "metadata": {},
   "outputs": [
    {
     "name": "stdout",
     "output_type": "stream",
     "text": [
      "[ 3.55745002e+10 -3.83202592e+07  1.03367964e+04]\n",
      "[ 3.53255269e+10 -3.79381054e+07  1.01412964e+04  3.33333336e-02]\n",
      "[-3.49904998e+09  1.78870407e+06 -1.90110999e+01  3.33329571e-02\n",
      " -9.69393243e-11]\n",
      "[-1.06058632e+04  4.61323522e+02 -1.92078297e+01  3.32322314e-02\n",
      " -5.16695313e-08 -2.67395417e-11]\n"
     ]
    }
   ],
   "source": [
    "def f(x, C):\n",
    "    res = C[0]\n",
    "    for i in range(1, len(C)):\n",
    "        res += C[i]*(x**i)\n",
    "        \n",
    "    return res\n",
    "for i in range(len(C)):\n",
    "    print(C[i])"
   ]
  },
  {
   "cell_type": "code",
   "execution_count": null,
   "metadata": {},
   "outputs": [],
   "source": []
  },
  {
   "cell_type": "code",
   "execution_count": 113,
   "metadata": {},
   "outputs": [
    {
     "name": "stdout",
     "output_type": "stream",
     "text": [
      "аппроксимация мгочленом 2\n",
      "[array([ 3.55745002e+10, -3.83202592e+07,  1.03367964e+04]), array([ 3.53255269e+10, -3.79381054e+07,  1.01412964e+04,  3.33333336e-02]), array([-3.49904998e+09,  1.78870407e+06, -1.90110999e+01,  3.33329571e-02,\n",
      "       -9.69393243e-11]), array([-1.06058632e+04,  4.61323522e+02, -1.92078297e+01,  3.32322314e-02,\n",
      "       -5.16695313e-08, -2.67395417e-11])]\n",
      "\n",
      "[3648100 3686400 3724900 3763600 3802500 3841600 3880900 3920400 3960100\n",
      " 4000000]\n"
     ]
    },
    {
     "data": {
      "image/png": "[encoded data removed]",
      "text/plain": [
       "<Figure size 432x288 with 1 Axes>"
      ]
     },
     "metadata": {
      "needs_background": "light"
     },
     "output_type": "display_data"
    },
    {
     "name": "stdout",
     "output_type": "stream",
     "text": [
      "аппроксимация мгочленом 3\n",
      "[array([ 3.55745002e+10, -3.83202592e+07,  1.03367964e+04]), array([ 3.53255269e+10, -3.79381054e+07,  1.01412964e+04,  3.33333336e-02]), array([-3.49904998e+09,  1.78870407e+06, -1.90110999e+01,  3.33329571e-02,\n",
      "       -9.69393243e-11]), array([-1.06058632e+04,  4.61323522e+02, -1.92078297e+01,  3.32322314e-02,\n",
      "       -5.16695313e-08, -2.67395417e-11])]\n",
      "\n",
      "[6967871000 7077888000 7189057000 7301384000 7414875000 7529536000\n",
      " 7645373000 7762392000 7880599000 8000000000]\n"
     ]
    },
    {
     "data": {
      "image/png": "[encoded data removed]",
      "text/plain": [
       "<Figure size 432x288 with 1 Axes>"
      ]
     },
     "metadata": {
      "needs_background": "light"
     },
     "output_type": "display_data"
    },
    {
     "name": "stdout",
     "output_type": "stream",
     "text": [
      "аппроксимация мгочленом 4\n",
      "[array([ 3.55745002e+10, -3.83202592e+07,  1.03367964e+04]), array([ 3.53255269e+10, -3.79381054e+07,  1.01412964e+04,  3.33333336e-02]), array([-3.49904998e+09,  1.78870407e+06, -1.90110999e+01,  3.33329571e-02,\n",
      "       -9.69393243e-11]), array([-1.06058632e+04,  4.61323522e+02, -1.92078297e+01,  3.32322314e-02,\n",
      "       -5.16695313e-08, -2.67395417e-11])]\n",
      "\n",
      "[13308633610000 13589544960000 13874880010000 14164684960000\n",
      " 14459006250000 14757890560000 15061384810000 15369536160000\n",
      " 15682392010000 16000000000000]\n"
     ]
    },
    {
     "data": {
      "image/png": "[encoded data removed]",
      "text/plain": [
       "<Figure size 432x288 with 1 Axes>"
      ]
     },
     "metadata": {
      "needs_background": "light"
     },
     "output_type": "display_data"
    },
    {
     "name": "stdout",
     "output_type": "stream",
     "text": [
      "аппроксимация мгочленом 5\n",
      "[array([ 3.55745002e+10, -3.83202592e+07,  1.03367964e+04]), array([ 3.53255269e+10, -3.79381054e+07,  1.01412964e+04,  3.33333336e-02]), array([-3.49904998e+09,  1.78870407e+06, -1.90110999e+01,  3.33329571e-02,\n",
      "       -9.69393243e-11]), array([-1.06058632e+04,  4.61323522e+02, -1.92078297e+01,  3.32322314e-02,\n",
      "       -5.16695313e-08, -2.67395417e-11])]\n",
      "\n",
      "[25419490195100000 26091926323200000 26778518419300000 27479488822400000\n",
      " 28195062187500000 28925465497600000 29670928075700000 30431681596800000\n",
      " 31207960099900000 32000000000000000]\n"
     ]
    },
    {
     "data": {
      "image/png": "[encoded data removed]",
      "text/plain": [
       "<Figure size 432x288 with 1 Axes>"
      ]
     },
     "metadata": {
      "needs_background": "light"
     },
     "output_type": "display_data"
    },
    {
     "data": {
      "image/png": "[encoded data removed]",
      "text/plain": [
       "<Figure size 432x288 with 1 Axes>"
      ]
     },
     "metadata": {
      "needs_background": "light"
     },
     "output_type": "display_data"
    },
    {
     "data": {
      "text/plain": [
       "[<matplotlib.lines.Line2D at 0x111ba2ed0>]"
      ]
     },
     "execution_count": 113,
     "metadata": {},
     "output_type": "execute_result"
    },
    {
     "data": {
      "image/png": "[encoded data removed]",
      "text/plain": [
       "<Figure size 432x288 with 1 Axes>"
      ]
     },
     "metadata": {
      "needs_background": "light"
     },
     "output_type": "display_data"
    }
   ],
   "source": [
    "color = ['b','g','r','c']\n",
    "for i in range(4):\n",
    "    figure()\n",
    "    print('аппроксимация мгочленом', i+2)\n",
    "    title('население США')\n",
    "    xlabel('years')\n",
    "    ylabel('people')\n",
    "    plot(x,f(x,C[i]), color[i])\n",
    "   # plt.plot(x,f(x,C[0]), 'r') \n",
    "    plot(x,y, 'o',markersize=5)\n",
    "    print(C)\n",
    "    print('')\n",
    "    print(x**(i+2))\n",
    "    \n",
    "    show()\n",
    "\n",
    "\n",
    "for i in range(4):\n",
    "    plt.plot(x,f(x,C[i]), color[i],linewidth=0.8)\n",
    "plt.plot(x,y, 'o',markersize=5)\n",
    "plt.grid()\n",
    "plt.show()\n",
    "x1 = np.arange(1910, 2050, 10)\n",
    "plt.plot(x,f(x,C[3]), color[3],linewidth=0.8)"
   ]
  },
  {
   "cell_type": "code",
   "execution_count": 114,
   "metadata": {},
   "outputs": [
    {
     "data": {
      "text/plain": [
       "4"
      ]
     },
     "execution_count": 114,
     "metadata": {},
     "output_type": "execute_result"
    }
   ],
   "source": [
    "len(C)"
   ]
  },
  {
   "cell_type": "code",
   "execution_count": 115,
   "metadata": {},
   "outputs": [],
   "source": [
    "def solve(x, y, N):\n",
    "    A = np.full((N,M),1)\n",
    "    for i in range(1, N):\n",
    "        for j in range(M):\n",
    "            A[i][j] = (x[j]-1955)**i\n",
    "\n",
    "    A2 = np.dot(A, A.T)\n",
    "    f = np.dot(A, y)\n",
    "    return np.linalg.solve(A2,f)\n",
    "\n",
    "C = []\n",
    "for i in range(2,6):\n",
    "    C.append(solve(x,y,i+1))\n",
    "    \n",
    "def f(x, C):\n",
    "    res = C[0]\n",
    "    for i in range(1, len(C)):\n",
    "        res += C[i]*((x-1955)**i)\n",
    "    return res"
   ]
  },
  {
   "cell_type": "code",
   "execution_count": 116,
   "metadata": {},
   "outputs": [
    {
     "data": {
      "image/png": "[encoded data removed]",
      "text/plain": [
       "<Figure size 432x288 with 1 Axes>"
      ]
     },
     "metadata": {
      "needs_background": "light"
     },
     "output_type": "display_data"
    },
    {
     "data": {
      "image/png": "[encoded data removed]",
      "text/plain": [
       "<Figure size 432x288 with 1 Axes>"
      ]
     },
     "metadata": {
      "needs_background": "light"
     },
     "output_type": "display_data"
    },
    {
     "data": {
      "image/png": "[encoded data removed]",
      "text/plain": [
       "<Figure size 432x288 with 1 Axes>"
      ]
     },
     "metadata": {
      "needs_background": "light"
     },
     "output_type": "display_data"
    },
    {
     "data": {
      "image/png": "[encoded data removed]",
      "text/plain": [
       "<Figure size 432x288 with 1 Axes>"
      ]
     },
     "metadata": {
      "needs_background": "light"
     },
     "output_type": "display_data"
    }
   ],
   "source": [
    "x1 = np.arange(1910, 2050, 10)\n",
    "color = ['b','g','r','c']\n",
    "#     for i in range(4):\n",
    "#         plt.plot(x1,f(x1,C[i]), color[i])\n",
    "#     plt.plot(x,f(x,C[0]), 'r')\n",
    "#    plt.plot(x1,f(x1,C[3]), color[3])\n",
    "#   plt.plot(x,y, 'bx',markersize=10)\n",
    "#   plt.show()\n",
    "\n",
    "\n",
    "for i in range(4):\n",
    "    plt.plot(x1,f(x1,C[i]), color[i])\n",
    "    plt.plot(x,y, 'o',markersize=5)\n",
    "    plt.grid()\n",
    "    plt.show()\n"
   ]
  },
  {
   "cell_type": "markdown",
   "metadata": {},
   "source": [
    "# IV.12.5. Вычислить с точностью ε = 10**(–3) координаты точек пересечения кривых а) sin(x+1)–y=1.2, 2x + cos y = 2; "
   ]
  },
  {
   "cell_type": "code",
   "execution_count": 117,
   "metadata": {},
   "outputs": [
    {
     "name": "stdout",
     "output_type": "stream",
     "text": [
      "0.5236494043533464 -0.2011112102887993\n",
      "0.5100773953025433 -0.20184282803994547\n",
      "0.5101505997625114 -0.20183838854859726\n",
      "0.5101501547636325 -0.20183841551943693\n"
     ]
    },
    {
     "data": {
      "image/png": "[encoded data removed]",
      "text/plain": [
       "<Figure size 432x288 with 1 Axes>"
      ]
     },
     "metadata": {
      "needs_background": "light"
     },
     "output_type": "display_data"
    }
   ],
   "source": [
    "def func (x):\n",
    "    return 1-cos(sin(x+1)-1.2)/2\n",
    "def first (x):\n",
    "    return -1.2+sin(x+1)\n",
    "def second (x):\n",
    "    return 1-cos(x)/2\n",
    "xmin = -0.6\n",
    "xmax = 1.5\n",
    "dx = 0.01\n",
    "xlist = np.arange(xmin, xmax, dx)\n",
    "y1 = [first(x) for x in xlist]\n",
    "y2 = [second(x) for x in xlist]\n",
    "figure()\n",
    "plot(xlist,y1)\n",
    "plot(y2,xlist)\n",
    "x=0.1\n",
    "for i in range(4):\n",
    "    plt.plot(x,sin(x+1)-1.2, 'bx',markersize=5)\n",
    "    x=1-cos(sin(x+1)-1.2)*0.5\n",
    "    print(x, sin(x+1)-1.2)"
   ]
  },
  {
   "cell_type": "markdown",
   "metadata": {},
   "source": [
    "# IV.12.4. Отделить корни следующих уравнений, а затем уточнить один из них с помощью подходящего итерационно процесса"
   ]
  },
  {
   "cell_type": "code",
   "execution_count": 118,
   "metadata": {},
   "outputs": [],
   "source": [
    "# Будем рисовать график этой функции\n",
    "def func (x):\n",
    "    return exp(-(x-1)**3)\n",
    "def left (x):\n",
    "    return -(x-1)**3\n",
    "def right (x):\n",
    "    return np.log(x)\n",
    "\n",
    "\n",
    "\n",
    "# Интервал изменения переменной по оси X\n",
    "xmin = 0.5\n",
    "xmax = 1.5\n",
    "\n",
    "# Шаг между точками\n",
    "dx = 0.01\n",
    "X = []\n",
    "\n",
    "\n",
    "# !!! Создадим список координат по оси X на отрезке [-xmin; xmax], включая концы\n",
    "xlist = np.arange(xmin, xmax, dx)\n",
    "yleft = [left(x) for x in xlist]\n",
    "yright = [right(x) for x in xlist]\n",
    "#ylist = [func(x) for x in xlist]"
   ]
  },
  {
   "cell_type": "code",
   "execution_count": 119,
   "metadata": {},
   "outputs": [
    {
     "name": "stdout",
     "output_type": "stream",
     "text": [
      "1.1331484530668263 0.125\n",
      "0.997642260089869 -0.002360523755455876\n",
      "1.0000000131065288 1.3106528665303899e-08\n",
      "1.0 0.0\n"
     ]
    },
    {
     "data": {
      "image/png": "[encoded data removed]",
      "text/plain": [
       "<Figure size 432x288 with 1 Axes>"
      ]
     },
     "metadata": {
      "needs_background": "light"
     },
     "output_type": "display_data"
    }
   ],
   "source": [
    "figure()\n",
    "#plot(x,f(x,C[i]), color[i])\n",
    "# plt.plot(x,f(x,C[0]), 'r') что это такое\n",
    "plot(xlist,yleft)\n",
    "plot(xlist,yright)\n",
    "x=0.5\n",
    "for i in range(4):\n",
    "    plt.plot(x,np.log(x), 'o',markersize=5)\n",
    "    x=exp(-(x-1)**3)\n",
    "    print(x, np.log(x))"
   ]
  },
  {
   "cell_type": "markdown",
   "metadata": {},
   "source": [
    "# V.7.1. Используя методы дихотомии и сведения вариационной задачи к задаче алгебраического уравнения, найти точку локального минимума функции: f(t)=t^(4)/4-2t^(2),"
   ]
  },
  {
   "cell_type": "code",
   "execution_count": 120,
   "metadata": {},
   "outputs": [
    {
     "name": "stdout",
     "output_type": "stream",
     "text": [
      "0.0 3\n",
      "1.5 3\n",
      "0.75 3\n",
      "1.125 3\n",
      "0.9375 3\n",
      "1.03125 3\n",
      "0.984375 3\n",
      "1.0078125 3\n",
      "0.99609375 3\n",
      "1.001953125 3\n",
      "0.9990234375 3\n",
      "1.00048828125 3\n",
      "0.999755859375 3\n",
      "1.0001220703125 3\n",
      "0.99993896484375 3\n",
      "1.000030517578125 3\n",
      "0.9999847412109375 3\n",
      "1.0000076293945312 3\n",
      "0.9999961853027344 3\n",
      "1.0000019073486328 3\n",
      "0.9999990463256836 3\n",
      "1.0000004768371582 3\n",
      "0.9999997615814209 3\n",
      "1.0000001192092896 3\n",
      "0.9999999403953552 3\n",
      "1.0000000298023224 3\n",
      "0.9999999850988388 3\n",
      "1.0000000074505806 3\n",
      "0.9999999962747097 3\n",
      "1.0000000018626451 3\n",
      "0.9999999990686774 3\n",
      "1.0000000004656613 3\n",
      "0.9999999997671694 3\n",
      "1.0000000001164153 3\n",
      "0.9999999999417923 3\n",
      "1.0000000000291038 3\n",
      "0.9999999999854481 3\n",
      "1.000000000007276 3\n",
      "0.999999999996362 3\n",
      "1.000000000001819 3\n",
      "0.9999999999990905 3\n",
      "1.0000000000004547 3\n",
      "0.9999999999997726 3\n",
      "1.0000000000001137 3\n",
      "0.9999999999999432 3\n",
      "1.0000000000000284 3\n",
      "0.9999999999999858 3\n",
      "1.000000000000007 3\n",
      "0.9999999999999964 3\n",
      "1.0000000000000018 3\n",
      "0.9999999999999991 3\n",
      "1.0000000000000004 3\n",
      "0.9999999999999998 3\n",
      "1.0 3\n"
     ]
    },
    {
     "data": {
      "image/png": "[encoded data removed]",
      "text/plain": [
       "<Figure size 432x288 with 1 Axes>"
      ]
     },
     "metadata": {
      "needs_background": "light"
     },
     "output_type": "display_data"
    }
   ],
   "source": [
    "xmin=-3\n",
    "xmax=3\n",
    "def func(x):\n",
    "    return 0.25*x**(4)-2*(x**2)\n",
    "for i in range(1,90):\n",
    "    if func((xmax-math.fabs(xmin))/2)*func(xmin)<0:\n",
    "        xmin = xmin\n",
    "        xmax=(xmax-math.fabs(xmin))/2\n",
    "    elif func((xmax-math.fabs(xmin))/2)*func(xmin)>=0:\n",
    "        xmax=xmax\n",
    "        xmin=(xmax-math.fabs(xmin))/2\n",
    "    print(xmin,xmax)\n",
    "    plt.plot(xmax-math.fabs(xmin),func(xmax-math.fabs(xmin)),'o',markersize=5)\n",
    "    if (xmax == 3) and (xmin == 1):\n",
    "        break \n",
    "    "
   ]
  },
  {
   "cell_type": "markdown",
   "metadata": {},
   "source": [
    "# 8.4Решить систему дифференциальных уравнений\n",
    "$u$′ = 998$u$ + 3996$\\nu$, \n",
    "\n",
    "$\\nu$′= – 499.5$u$ – 1999$\\nu$\n",
    "\n",
    "с начальными значениями $u(0) = \\nu(0) = 1$ явным и неявным методами Эйлера,\n",
    "решение сравнить с точным решением.\n",
    "### Найдем собственные значения матрицы системы: \n",
    "#### $\\lambda_1 = -1000, \\lambda_2 = -1 $\n",
    "## Явный Эйлер \n",
    "#### $\\frac{u_{n+1} - u_n}{h} = \\lambda u_{n}$\n",
    "#### Метод Эйлера устойчив, при $|1-\\lambda h|<1$\n",
    "#### Т.е. $h = \\frac{1}{\\lambda_{max}} = 0.001$\n",
    "\n",
    "\n",
    "\n",
    "#### $u_{n+1} = (1+ \\lambda h)u_n$\n",
    "\n",
    "#### $ |1 + \\lambda h|  < 1$"
   ]
  },
  {
   "cell_type": "markdown",
   "metadata": {},
   "source": []
  },
  {
   "cell_type": "code",
   "execution_count": 44,
   "metadata": {},
   "outputs": [
    {
     "data": {
      "image/png": "[encoded data removed]",
      "text/plain": [
       "<Figure size 432x288 with 1 Axes>"
      ]
     },
     "metadata": {
      "needs_background": "light"
     },
     "output_type": "display_data"
    },
    {
     "name": "stdout",
     "output_type": "stream",
     "text": [
      "1 1 0.0 \n",
      "\n",
      "150.82 -73.955 0.03 \n",
      "\n",
      "-4199.354600000001 2101.0886499999997 0.06 \n",
      "\n",
      "121950.4760379999 -60973.869009499984 0.09 \n",
      "\n",
      "-3536399.688243141 1768201.1720607856 0.12 \n",
      "\n",
      "102555750.15240419 -51277873.78810106 0.15 \n",
      "\n",
      "-2974116600.002169 1487058301.2505426 0.18 \n",
      "\n",
      "86249381549.84793 -43124690773.712 0.21 \n",
      "\n",
      "-2501232064800.2993 1250616032401.3252 0.24 \n",
      "\n",
      "72535729879349.6 -36267864939673.66 0.27 \n",
      "\n",
      "-2103536166501001.5 1051768083250501.8 0.3 \n",
      "\n",
      "6.100254882852916e+16 -3.0501274414264584e+16 0.32999999999999996 \n",
      "\n",
      "-1.769073916027346e+18 8.845369580136731e+17 0.36 \n",
      "\n",
      "5.1303143564793045e+19 -2.5651571782396522e+19 0.39 \n",
      "\n",
      "-1.4877911633789982e+21 7.438955816894992e+20 0.42 \n",
      "\n",
      "4.314594373799096e+22 -2.1572971868995482e+22 0.44999999999999996 \n",
      "\n",
      "-1.2512323684017382e+24 6.25616184200869e+23 0.48 \n",
      "\n",
      "3.6285738683650397e+25 -1.8142869341825194e+25 0.51 \n",
      "\n",
      "-1.0522864218258612e+27 5.261432109129305e+26 0.54 \n",
      "\n",
      "3.051630623294996e+28 -1.5258153116474983e+28 0.57 \n",
      "\n",
      "-8.849728807555491e+29 4.424864403777745e+29 0.6 \n",
      "\n",
      "2.5664213541910917e+31 -1.2832106770955459e+31 0.63 \n",
      "\n",
      "-7.442621927154164e+32 3.721310963577084e+32 0.6599999999999999 \n",
      "\n",
      "2.158360358874709e+34 -1.0791801794373545e+34 0.69 \n",
      "\n",
      "-6.2592450407366555e+35 3.1296225203683278e+35 0.72 \n",
      "\n",
      "1.81518106181363e+37 -9.07590530906815e+36 0.75 \n",
      "\n",
      "-5.264025079259526e+38 2.632012539629763e+38 0.78 \n",
      "\n",
      "1.5265672729852624e+40 -7.632836364926312e+39 0.8099999999999999 \n",
      "\n",
      "-4.427045091657262e+41 2.2135225458286303e+41 0.84 \n",
      "\n",
      "1.2838430765806053e+43 -6.419215382903025e+42 0.87 \n",
      "\n",
      "-3.723144922083754e+44 1.861572461041877e+44 0.8999999999999999 \n",
      "\n",
      "1.0797120274042887e+46 -5.3985601370214436e+45 0.9299999999999999 \n",
      "\n",
      "-3.1311648794724373e+47 1.5655824397362186e+47 0.96 \n",
      "\n",
      "9.080378150470067e+48 -4.540189075235034e+48 0.99 \n",
      "\n",
      "-2.63330966363632e+50 1.3166548318181599e+50 1.02 \n",
      "\n",
      "7.636598024545324e+51 -3.818299012272663e+51 1.05 \n",
      "\n",
      "-2.2146134271181457e+53 1.1073067135590728e+53 1.08 \n",
      "\n",
      "6.422378938642624e+54 -3.211189469321311e+54 1.1099999999999999 \n",
      "\n",
      "-1.86248989220636e+56 9.3124494610318e+55 1.14 \n",
      "\n",
      "5.4012206873984445e+57 -2.7006103436992222e+57 1.17 \n",
      "\n",
      "-1.5663539993455488e+59 7.831769996727745e+58 1.2 \n",
      "\n",
      "4.542426598102094e+60 -2.271213299051047e+60 1.23 \n",
      "\n",
      "-1.317303713449607e+62 6.586518567248034e+61 1.26 \n",
      "\n",
      "3.82018076900386e+63 -1.9100903845019296e+63 1.29 \n",
      "\n",
      "-1.1078524230111188e+65 5.539262115055595e+64 1.3199999999999998 \n",
      "\n",
      "3.212772026732246e+66 -1.6063860133661226e+66 1.3499999999999999 \n",
      "\n",
      "-9.317038877523509e+67 4.658519438761754e+67 1.38 \n",
      "\n",
      "2.7019412744818165e+69 -1.3509706372409083e+69 1.41 \n",
      "\n",
      "-7.835629695997267e+70 3.917814847998634e+70 1.44 \n",
      "\n",
      "2.272332611839208e+72 -1.1361663059196042e+72 1.47 \n",
      "\n",
      "-6.589764574333706e+73 3.294882287166852e+73 1.5 \n",
      "\n",
      "1.9110317265567735e+75 -9.555158632783872e+74 1.53 \n",
      "\n",
      "-5.541992007014648e+76 2.7709960035073235e+76 1.56 \n",
      "\n",
      "1.607177682034247e+78 -8.035888410171238e+77 1.5899999999999999 \n",
      "\n",
      "-4.6608152778993206e+79 2.33040763894966e+79 1.6199999999999999 \n",
      "\n",
      "1.3516364305908024e+81 -6.758182152954014e+80 1.65 \n",
      "\n",
      "-3.9197456487133286e+82 1.959872824356665e+82 1.68 \n",
      "\n",
      "1.1367262381268662e+84 -5.683631190634331e+83 1.71 \n",
      "\n",
      "-3.296506090567911e+85 1.648253045283956e+85 1.74 \n",
      "\n",
      "9.559867662646942e+86 -4.779933831323471e+86 1.77 \n",
      "\n",
      "-2.7723616221676135e+88 1.3861808110838064e+88 1.7999999999999998 \n",
      "\n",
      "8.039848704286073e+89 -4.0199243521430376e+89 1.8299999999999998 \n",
      "\n",
      "-2.3315561242429623e+91 1.1657780621214811e+91 1.8599999999999999 \n",
      "\n",
      "6.761512760304592e+92 -3.380756380152295e+92 1.89 \n",
      "\n",
      "-1.9608387004883302e+94 9.80419350244165e+93 1.92 \n",
      "\n",
      "5.686432231416156e+95 -2.843216115708078e+95 1.95 \n",
      "\n",
      "-1.6490653471106854e+97 8.245326735553423e+96 1.98 \n",
      "\n",
      "4.782289506620983e+98 -2.3911447533104912e+98 2.01 \n",
      "\n",
      "-1.3868639569200844e+100 6.934319784600424e+99 2.04 \n",
      "\n",
      "4.0219054750682475e+101 -2.010952737534123e+101 2.07 \n",
      "\n",
      "-1.1663525877697913e+103 5.831762938848955e+102 2.1 \n",
      "\n",
      "3.382422504532394e+104 -1.691211252266197e+104 2.13 \n",
      "\n",
      "-9.809025263143942e+105 4.904512631571971e+105 2.16 \n",
      "\n",
      "2.8446173263117428e+107 -1.4223086631558717e+107 2.19 \n",
      "\n",
      "-8.249390246304058e+108 4.124695123152029e+108 2.2199999999999998 \n",
      "\n",
      "2.3923231714281764e+110 -1.1961615857140882e+110 2.25 \n",
      "\n",
      "-6.937737197141711e+111 3.4688685985708555e+111 2.28 \n",
      "\n",
      "2.0119437871710965e+113 -1.005971893585548e+113 2.31 \n",
      "\n",
      "-5.834636982796179e+114 2.917318491398089e+114 2.34 \n",
      "\n",
      "1.692044725010891e+116 -8.460223625054457e+115 2.37 \n",
      "\n",
      "-4.9069297025315865e+117 2.4534648512657933e+117 2.4 \n",
      "\n",
      "1.4230096137341599e+119 -7.1150480686707995e+118 2.4299999999999997 \n",
      "\n",
      "-4.126727879829064e+120 2.0633639399145316e+120 2.46 \n",
      "\n",
      "1.1967510851504283e+122 -5.98375542575214e+121 2.4899999999999998 \n",
      "\n",
      "-3.4705781469362396e+123 1.73528907346812e+123 2.52 \n",
      "\n",
      "1.0064676626115098e+125 -5.03233831305755e+124 2.55 \n",
      "\n",
      "-2.9187562215733785e+126 1.45937811078669e+126 2.58 \n",
      "\n",
      "8.464393042562804e+127 -4.232196521281402e+127 2.61 \n",
      "\n",
      "-2.454673982343213e+129 1.2273369911716062e+129 2.6399999999999997 \n",
      "\n",
      "7.118554548795314e+130 -3.5592772743976567e+130 2.67 \n",
      "\n",
      "-2.0643808191506402e+132 1.0321904095753201e+132 2.6999999999999997 \n",
      "\n",
      "5.986704375536856e+133 -2.993352187768428e+133 2.73 \n",
      "\n",
      "-1.736144268905688e+135 8.68072134452844e+134 2.76 \n",
      "\n",
      "5.034818379826493e+136 -2.5174091899132474e+136 2.79 \n",
      "\n",
      "-1.460097330149684e+138 7.30048665074842e+137 2.82 \n",
      "\n",
      "4.2342822574340834e+139 -2.1171411287170414e+139 2.85 \n",
      "\n",
      "-1.227941854655884e+141 6.13970927327942e+140 2.88 \n",
      "\n",
      "3.561031378502063e+142 -1.7805156892510312e+142 2.9099999999999997 \n",
      "\n",
      "-1.032699099765598e+144 5.16349549882799e+143 2.94 \n",
      "\n",
      "2.994827389320234e+145 -1.497413694660117e+145 2.9699999999999998 \n",
      "\n",
      "-8.684999429028677e+146 4.3424997145143395e+146 3.0 \n",
      "\n",
      "2.5186498344183178e+148 -1.2593249172091586e+148 3.03 \n",
      "\n",
      "-7.304084519813117e+149 3.652042259906559e+149 3.06 \n",
      "\n",
      "2.1181845107458043e+151 -1.0590922553729024e+151 3.09 \n",
      "\n",
      "-6.142735081162835e+152 3.0713675405814172e+152 3.12 \n",
      "\n",
      "1.7813931735372213e+154 -8.906965867686108e+153 3.15 \n",
      "\n",
      "-5.166040203257943e+155 2.5830201016289715e+155 3.1799999999999997 \n",
      "\n",
      "1.4981516589448034e+157 -7.490758294724015e+156 3.21 \n",
      "\n",
      "-4.344639810939929e+158 2.1723199054699641e+158 3.2399999999999998 \n",
      "\n",
      "1.2599455451725789e+160 -6.299727725862894e+159 3.27 \n",
      "\n",
      "-3.653842081000477e+161 1.8269210405002389e+161 3.3 \n",
      "\n",
      "1.0596142034901385e+163 -5.298071017450693e+162 3.33 \n",
      "\n",
      "-3.0728811901214023e+164 1.5364405950607014e+164 3.36 \n",
      "\n",
      "8.91135545135207e+165 -4.455677725676035e+165 3.3899999999999997 \n",
      "\n",
      "-2.5842930808921e+167 1.29214654044605e+167 3.42 \n",
      "\n",
      "7.49444993458709e+168 -3.747224967293545e+168 3.4499999999999997 \n",
      "\n",
      "-2.173390481030256e+170 1.086695240515128e+170 3.48 \n",
      "\n",
      "6.3028323949877415e+171 -3.1514161974938708e+171 3.51 \n",
      "\n",
      "-1.827821394546445e+173 9.139106972732224e+172 3.54 \n",
      "\n",
      "5.30068204418469e+174 -2.6503410220923444e+174 3.57 \n",
      "\n",
      "-1.5371977928135595e+176 7.685988964067799e+175 3.5999999999999996 \n",
      "\n",
      "4.457873599159325e+177 -2.228936799579662e+177 3.63 \n",
      "\n",
      "-1.2927833437562033e+179 6.4639167187810165e+178 3.6599999999999997 \n",
      "\n",
      "3.7490716968929894e+180 -1.8745358484464945e+180 3.69 \n",
      "\n",
      "-1.0872307920989664e+182 5.436153960494834e+181 3.7199999999999998 \n",
      "\n",
      "3.1529692970870047e+183 -1.5764846485435023e+183 3.75 \n",
      "\n",
      "-9.143610961552313e+184 4.571805480776156e+184 3.78 \n",
      "\n",
      "2.6516471788501713e+186 -1.3258235894250854e+186 3.81 \n",
      "\n",
      "-7.689776818665493e+187 3.844888409332747e+187 3.84 \n",
      "\n",
      "2.2300352774129937e+189 -1.115017638706497e+189 3.8699999999999997 \n",
      "\n",
      "-6.467102304497684e+190 3.2335511522488425e+190 3.9 \n",
      "\n",
      "1.8754596683043288e+192 -9.377298341521644e+191 3.9299999999999997 \n",
      "\n",
      "-5.438833038082553e+193 2.719416519041277e+193 3.96 \n",
      "\n",
      "1.5772615810439406e+195 -7.886307905219705e+194 3.9899999999999998 \n",
      "\n",
      "-4.5740585850274295e+196 2.287029292513715e+196 4.02 \n",
      "\n",
      "1.3264769896579555e+198 -6.632384948289775e+197 4.05 \n",
      "\n",
      "-3.8467832700080685e+199 1.9233916350040334e+199 4.08 \n",
      "\n",
      "1.1155671483023387e+201 -5.5778357415116934e+200 4.109999999999999 \n",
      "\n",
      "-3.2351447300767816e+202 1.617572365038391e+202 4.14 \n",
      "\n",
      "9.38191971722267e+203 -4.6909598586113346e+203 4.17 \n",
      "\n",
      "-2.720756717994574e+205 1.3603783589972866e+205 4.2 \n",
      "\n",
      "7.890194482184259e+206 -3.9450972410921296e+206 4.2299999999999995 \n",
      "\n",
      "-2.288156399833435e+208 1.1440781999167174e+208 4.26 \n",
      "\n",
      "6.635653559516961e+209 -3.31782677975848e+209 4.29 \n",
      "\n",
      "-1.9243395322599176e+211 9.621697661299588e+210 4.32 \n",
      "\n",
      "5.580584643553761e+212 -2.790292321776881e+212 4.35 \n",
      "\n",
      "-1.618369546630591e+214 8.091847733152956e+213 4.38 \n",
      "\n",
      "4.693271685228714e+215 -2.3466358426143576e+215 4.41 \n",
      "\n",
      "-1.3610487887163278e+217 6.805243943581639e+216 4.4399999999999995 \n",
      "\n",
      "3.947041487277351e+218 -1.973520743638675e+218 4.47 \n",
      "\n",
      "-1.144642031310431e+220 5.723210156552155e+219 4.5 \n",
      "\n",
      "3.31946189080025e+221 -1.6597309454001252e+221 4.53 \n",
      "\n",
      "-9.626439483320727e+222 4.813219741660362e+222 4.56 \n",
      "\n",
      "2.7916674501630088e+224 -1.3958337250815048e+224 4.59 \n",
      "\n",
      "-8.095835605472731e+225 4.047917802736365e+225 4.62 \n",
      "\n",
      "2.347792325587091e+227 -1.1738961627935459e+227 4.6499999999999995 \n",
      "\n",
      "-6.808597744202569e+228 3.404298872101283e+228 4.68 \n",
      "\n",
      "1.9744933458187435e+230 -9.872466729093715e+229 4.71 \n",
      "\n",
      "-5.726030702874352e+231 2.8630153514371766e+231 4.74 \n",
      "\n",
      "1.6605489038335626e+233 -8.302744519167814e+232 4.77 \n",
      "\n",
      "-4.815591821117332e+234 2.407795910558666e+234 4.8 \n",
      "\n",
      "1.3965216281240263e+236 -6.982608140620131e+235 4.83 \n",
      "\n",
      "-4.049912721559677e+237 2.024956360779838e+237 4.859999999999999 \n",
      "\n",
      "1.1744746892523054e+239 -5.87237344626153e+238 4.89 \n",
      "\n",
      "-3.405976598831688e+240 1.702988299415844e+240 4.92 \n",
      "\n",
      "9.877332136611897e+241 -4.9386660683059475e+241 4.95 \n",
      "\n",
      "-2.8644263196174486e+243 1.4322131598087243e+243 4.9799999999999995 \n",
      "\n",
      "8.306836326890601e+244 -4.1534181634453004e+244 5.01 \n",
      "\n",
      "-2.4089825347982742e+246 1.204491267399137e+246 5.04 \n",
      "\n",
      "6.986049350914993e+247 -3.4930246754574966e+247 5.069999999999999 \n",
      "\n",
      "-2.025954311765348e+249 1.012977155882674e+249 5.1 \n",
      "\n",
      "5.875267504119508e+250 -2.937633752059754e+250 5.13 \n",
      "\n",
      "-1.7038275761946574e+252 8.519137880973289e+251 5.16 \n",
      "\n",
      "4.9410999709645095e+253 -2.470549985482254e+253 5.1899999999999995 \n",
      "\n",
      "-1.4329189915797067e+255 7.164594957898534e+254 5.22 \n",
      "\n",
      "4.15546507558115e+256 -2.077732537790575e+256 5.25 \n",
      "\n",
      "-1.2050848719185336e+258 6.025424359592667e+257 5.279999999999999 \n",
      "\n",
      "3.494746128563746e+259 -1.7473730642818727e+259 5.31 \n",
      "\n",
      "-1.0134763772834857e+261 5.067381886417431e+260 5.34 \n",
      "\n",
      "2.9390814941221115e+262 -1.4695407470610557e+262 5.37 \n",
      "\n",
      "-8.523336332954122e+263 4.2616681664770616e+263 5.3999999999999995 \n",
      "\n",
      "2.4717675365566956e+265 -1.235883768278348e+265 5.43 \n",
      "\n",
      "-7.168125856014418e+266 3.584062928007209e+266 5.46 \n",
      "\n",
      "2.078756498244181e+268 -1.0393782491220907e+268 5.49 \n",
      "\n",
      "-6.028393844908127e+269 3.014196922454064e+269 5.52 \n",
      "\n",
      "1.7482342150233575e+271 -8.741171075116786e+270 5.55 \n",
      "\n",
      "-5.0698792235677336e+272 2.5349396117838668e+272 5.58 \n",
      "\n",
      "1.4702649748346428e+274 -7.351324874173212e+273 5.609999999999999 \n",
      "\n",
      "-4.263768427020461e+275 2.131884213510231e+275 5.64 \n",
      "\n",
      "1.236492843835934e+277 -6.182464219179671e+276 5.67 \n",
      "\n",
      "-3.5858292471242095e+278 1.792914623562105e+278 5.7 \n",
      "\n",
      "1.039890481666021e+280 -5.199452408330105e+279 5.7299999999999995 \n",
      "\n",
      "-3.015682396831461e+281 1.5078411984157304e+281 5.76 \n",
      "\n",
      "8.745478950811236e+282 -4.372739475405618e+282 5.79 \n",
      "\n",
      "-2.5361888957352584e+284 1.2680944478676292e+284 5.819999999999999 \n",
      "\n",
      "7.354947797632249e+285 -3.677473898816124e+285 5.85 \n",
      "\n",
      "-2.1329348613133517e+287 1.066467430656676e+287 5.88 \n",
      "\n",
      "6.185511097808722e+288 -3.092755548904361e+288 5.91 \n",
      "\n",
      "-1.7937982183645294e+290 8.968991091822645e+289 5.9399999999999995 \n",
      "\n",
      "5.202014833257133e+291 -2.6010074166285666e+291 5.97 \n",
      "\n",
      "-1.5085843016445686e+293 7.542921508222843e+292 6.0 \n",
      "\n",
      "4.374894474769249e+294 -2.187447237384625e+294 6.029999999999999 \n",
      "\n",
      "-1.2687193976830826e+296 6.343596988415413e+295 6.06 \n",
      "\n",
      "3.6792862532809397e+297 -1.8396431266404693e+297 6.09 \n",
      "\n",
      "-1.0669930134514718e+299 5.334965067257358e+298 6.12 \n",
      "\n",
      "3.094279739009267e+300 -1.5471398695046332e+300 6.1499999999999995 \n",
      "\n",
      "-8.973411243126869e+301 4.486705621563434e+301 6.18 \n",
      "\n",
      "2.602289260506792e+303 -1.3011446302533957e+303 6.21 \n",
      "\n",
      "-7.546638855469694e+304 3.7733194277348464e+304 6.24 \n",
      "\n",
      "2.1885252680862103e+306 -1.0942626340431053e+306 6.27 \n",
      "\n",
      "nan nan 6.3 \n",
      "\n",
      "nan nan 6.33 \n",
      "\n",
      "nan nan 6.359999999999999 \n",
      "\n",
      "nan nan 6.39 \n",
      "\n",
      "nan nan 6.42 \n",
      "\n",
      "nan nan 6.45 \n",
      "\n",
      "nan nan 6.4799999999999995 \n",
      "\n",
      "nan nan 6.51 \n",
      "\n",
      "nan nan 6.54 \n",
      "\n",
      "nan nan 6.569999999999999 \n",
      "\n",
      "nan nan 6.6 \n",
      "\n",
      "nan nan 6.63 \n",
      "\n",
      "nan nan 6.66 \n",
      "\n",
      "nan nan 6.6899999999999995 \n",
      "\n",
      "nan nan 6.72 \n",
      "\n",
      "nan nan 6.75 \n",
      "\n",
      "nan nan 6.779999999999999 \n",
      "\n",
      "nan nan 6.81 \n",
      "\n",
      "nan nan 6.84 \n",
      "\n",
      "nan nan 6.87 \n",
      "\n",
      "nan nan 6.8999999999999995 \n",
      "\n",
      "nan nan 6.93 \n",
      "\n",
      "nan nan 6.96 \n",
      "\n",
      "nan nan 6.989999999999999 \n",
      "\n",
      "nan nan 7.02 \n",
      "\n",
      "nan nan 7.05 \n",
      "\n",
      "nan nan 7.08 \n",
      "\n",
      "nan nan 7.109999999999999 \n",
      "\n",
      "nan nan 7.14 \n",
      "\n",
      "nan nan 7.17 \n",
      "\n",
      "nan nan 7.199999999999999 \n",
      "\n",
      "nan nan 7.2299999999999995 \n",
      "\n",
      "nan nan 7.26 \n",
      "\n",
      "nan nan 7.29 \n",
      "\n",
      "nan nan 7.319999999999999 \n",
      "\n",
      "nan nan 7.35 \n",
      "\n",
      "nan nan 7.38 \n",
      "\n",
      "nan nan 7.41 \n",
      "\n",
      "nan nan 7.4399999999999995 \n",
      "\n",
      "nan nan 7.47 \n",
      "\n",
      "nan nan 7.5 \n",
      "\n",
      "nan nan 7.529999999999999 \n",
      "\n",
      "nan nan 7.56 \n",
      "\n",
      "nan nan 7.59 \n",
      "\n",
      "nan nan 7.62 \n",
      "\n",
      "nan nan 7.6499999999999995 \n",
      "\n",
      "nan nan 7.68 \n",
      "\n",
      "nan nan 7.71 \n",
      "\n",
      "nan nan 7.739999999999999 \n",
      "\n",
      "nan nan 7.77 \n",
      "\n",
      "nan nan 7.8 \n",
      "\n",
      "nan nan 7.83 \n",
      "\n",
      "nan nan 7.859999999999999 \n",
      "\n",
      "nan nan 7.89 \n",
      "\n",
      "nan nan 7.92 \n",
      "\n",
      "nan nan 7.949999999999999 \n",
      "\n",
      "nan nan 7.9799999999999995 \n",
      "\n",
      "nan nan 8.01 \n",
      "\n",
      "nan nan 8.04 \n",
      "\n",
      "nan nan 8.07 \n",
      "\n",
      "nan nan 8.1 \n",
      "\n",
      "nan nan 8.129999999999999 \n",
      "\n",
      "nan nan 8.16 \n",
      "\n",
      "nan nan 8.19 \n",
      "\n",
      "nan nan 8.219999999999999 \n",
      "\n",
      "nan nan 8.25 \n",
      "\n",
      "nan nan 8.28 \n",
      "\n",
      "nan nan 8.31 \n",
      "\n",
      "nan nan 8.34 \n",
      "\n",
      "nan nan 8.37 \n",
      "\n",
      "nan nan 8.4 \n",
      "\n",
      "nan nan 8.43 \n",
      "\n",
      "nan nan 8.459999999999999 \n",
      "\n",
      "nan nan 8.49 \n",
      "\n",
      "nan nan 8.52 \n",
      "\n",
      "nan nan 8.549999999999999 \n",
      "\n",
      "nan nan 8.58 \n",
      "\n",
      "nan nan 8.61 \n",
      "\n",
      "nan nan 8.64 \n",
      "\n",
      "nan nan 8.67 \n",
      "\n",
      "nan nan 8.7 \n",
      "\n",
      "nan nan 8.73 \n",
      "\n",
      "nan nan 8.76 \n",
      "\n",
      "nan nan 8.79 \n",
      "\n",
      "nan nan 8.82 \n",
      "\n",
      "nan nan 8.85 \n",
      "\n",
      "nan nan 8.879999999999999 \n",
      "\n",
      "nan nan 8.91 \n",
      "\n",
      "nan nan 8.94 \n",
      "\n",
      "nan nan 8.969999999999999 \n",
      "\n",
      "nan nan 9.0 \n",
      "\n",
      "nan nan 9.03 \n",
      "\n",
      "nan nan 9.06 \n",
      "\n",
      "nan nan 9.09 \n",
      "\n",
      "nan nan 9.12 \n",
      "\n",
      "nan nan 9.15 \n",
      "\n",
      "nan nan 9.18 \n",
      "\n",
      "nan nan 9.209999999999999 \n",
      "\n",
      "nan nan 9.24 \n",
      "\n",
      "nan nan 9.27 \n",
      "\n",
      "nan nan 9.299999999999999 \n",
      "\n",
      "nan nan 9.33 \n",
      "\n",
      "nan nan 9.36 \n",
      "\n",
      "nan nan 9.389999999999999 \n",
      "\n",
      "nan nan 9.42 \n",
      "\n",
      "nan nan 9.45 \n",
      "\n",
      "nan nan 9.48 \n",
      "\n",
      "nan nan 9.51 \n",
      "\n",
      "nan nan 9.54 \n",
      "\n",
      "nan nan 9.57 \n",
      "\n",
      "nan nan 9.6 \n",
      "\n",
      "nan nan 9.629999999999999 \n",
      "\n",
      "nan nan 9.66 \n",
      "\n",
      "nan nan 9.69 \n",
      "\n",
      "nan nan 9.719999999999999 \n",
      "\n",
      "nan nan 9.75 \n",
      "\n",
      "nan nan 9.78 \n",
      "\n",
      "nan nan 9.81 \n",
      "\n",
      "nan nan 9.84 \n",
      "\n",
      "nan nan 9.87 \n",
      "\n",
      "nan nan 9.9 \n",
      "\n",
      "nan nan 9.93 \n",
      "\n",
      "nan nan 9.959999999999999 \n",
      "\n",
      "nan nan 9.99 \n",
      "\n"
     ]
    }
   ],
   "source": [
    "def func(u, v, t1, t2, h):\n",
    "  U = []\n",
    "  V = []\n",
    "  for i in np.arange(t1, t2, h):\n",
    "    U.append(u)\n",
    "    V.append(v)\n",
    "    u_l = u\n",
    "    u += h * (998*u + 3996*v)\n",
    "    v += h * (-499.5*u_l - 1999*v) #предыдущий сделать \n",
    "  return U, V\n",
    "\n",
    "u, v = func(u = 1, v = 1, t1 = 0, t2 = 10, h = 0.03)\n",
    "t = np.arange(0, 10, 0.03)\n",
    "def func1(x, y, t1, t2, h):\n",
    "  X = []\n",
    "  Y = []\n",
    "  x=1\n",
    "  y=1\n",
    "  for i in np.arange(t1, t2, h):\n",
    "    X.append(x)\n",
    "    Y.append(y)\n",
    "    x = 6*exp(-i)-5*exp(-1000*i)\n",
    "    y = -3/2*exp(-i)+5/2*exp(-1000*i)\n",
    "  return X, Y\n",
    "x, y = func1(x = 1, y = 1, t1 = 0, t2 = 10, h = 0.03)\n",
    "figure()\n",
    "plot(t, u, 'r')\n",
    "plot(t, v, 'b')\n",
    "plot(t, x, 'g--')\n",
    "plot(t, y, 'y--')\n",
    "\n",
    "\n",
    "xlabel('t')\n",
    "ylabel('u - blue,v - red')\n",
    "title('Явный Эйлер')\n",
    "show()\n",
    "for i in range(len(t)):\n",
    "    print(u[i],v[i],t[i],\"\\n\")\n"
   ]
  },
  {
   "cell_type": "markdown",
   "metadata": {},
   "source": [
    "## НеЯвный Эйлер \n",
    "$\\frac{y_{n+1}-y_n}{h}=\\lambda y_{n+1}$\n",
    "### Теперь разрешим систему используя неявный метод Эйлера\n",
    "#### $u_{n+1} = u_n + h*f(u_{n+1}, v_{n+1})$\n",
    "#### $v_{n+1} = v_n + h*f(u_{n+1}, v_{n+1})$\n",
    "\n"
   ]
  },
  {
   "cell_type": "code",
   "execution_count": 47,
   "metadata": {},
   "outputs": [
    {
     "data": {
      "image/png": "[encoded data removed]",
      "text/plain": [
       "<Figure size 432x288 with 1 Axes>"
      ]
     },
     "metadata": {
      "needs_background": "light"
     },
     "output_type": "display_data"
    }
   ],
   "source": [
    "def func(u, v, t1, t2, h):\n",
    "  U = []\n",
    "  V = []\n",
    "  for i in np.arange(t1, t2, h):\n",
    "    U.append(u)\n",
    "    V.append(v)\n",
    "    u_l = u\n",
    "    v_l = v\n",
    "    v = 1 / (1 + 1999 *  h+499.5 * 3996 * h**2 / (1-998*h)) * (v_l - 499.5 * h * u_l / (1 - 998*h))\n",
    "    u = 1/(1-998*h)*(u_l+3996*h*v)\n",
    "   # u = v*(3996*i+u)/((1999*i)*(1-998*i))/(1+(499.5*i*(3996*i+u))/(1+1999*i)/(1-998*i))\n",
    "   # v=(-499.5*u*i+v)/(1+1999*i)\n",
    "  return U, V\n",
    "\n",
    "def func1(x, y, t1, t2, h):\n",
    "  X = []\n",
    "  Y = []\n",
    "  x=1\n",
    "  y=1\n",
    "  for i in np.arange(t1, t2, h):\n",
    "    X.append(x)\n",
    "    Y.append(y)\n",
    "    x = 6*exp(-i)-5*exp(-1000*i)\n",
    "    y = -3/2*exp(-i)+5/2*exp(-1000*i)\n",
    "  return X, Y\n",
    "x, y = func1(x = 1, y = 1, t1 = 0, t2 = 10, h = 0.03)\n",
    "\n",
    "u, v = func(u = 1, v = 1, t1 = 0, t2 = 10, h = 0.03)\n",
    "t = np.arange(0, 10, 0.03)\n",
    "figure()\n",
    "plot(t, u, 'r')\n",
    "plot(t, v, 'b')\n",
    "plot(t, x, 'g--')\n",
    "plot(t, y, 'y--')\n",
    "xlabel('t')\n",
    "ylabel('u,v')\n",
    "title('НеЯвный Эйлер')\n",
    "show()"
   ]
  },
  {
   "cell_type": "code",
   "execution_count": null,
   "metadata": {},
   "outputs": [],
   "source": []
  },
  {
   "cell_type": "code",
   "execution_count": null,
   "metadata": {},
   "outputs": [],
   "source": []
  },
  {
   "cell_type": "code",
   "execution_count": null,
   "metadata": {},
   "outputs": [],
   "source": []
  },
  {
   "cell_type": "code",
   "execution_count": null,
   "metadata": {},
   "outputs": [],
   "source": []
  },
  {
   "cell_type": "code",
   "execution_count": null,
   "metadata": {},
   "outputs": [],
   "source": []
  },
  {
   "cell_type": "code",
   "execution_count": null,
   "metadata": {},
   "outputs": [],
   "source": []
  }
 ],
 "metadata": {
  "kernelspec": {
   "display_name": "Python 3",
   "language": "python",
   "name": "python3"
  },
  "language_info": {
   "codemirror_mode": {
    "name": "ipython",
    "version": 3
   },
   "file_extension": ".py",
   "mimetype": "text/x-python",
   "name": "python",
   "nbconvert_exporter": "python",
   "pygments_lexer": "ipython3",
   "version": "3.7.4"
  }
 },
 "nbformat": 4,
 "nbformat_minor": 2
}
