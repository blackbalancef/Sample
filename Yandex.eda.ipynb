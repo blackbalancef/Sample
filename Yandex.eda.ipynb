{
 "cells": [
  {
   "cell_type": "code",
   "execution_count": 4,
   "metadata": {},
   "outputs": [],
   "source": [
    "from shapely.geometry import Point, Polygon"
   ]
  },
  {
   "cell_type": "code",
   "execution_count": 77,
   "metadata": {},
   "outputs": [],
   "source": [
    "import pandas as pd"
   ]
  },
  {
   "cell_type": "code",
   "execution_count": 95,
   "metadata": {},
   "outputs": [
    {
     "name": "stdout",
     "output_type": "stream",
     "text": [
      "﻿user_id;loc_lat;loc_lon\r",
      "\r\n",
      "1;55.737564;37.345186\r",
      "\r\n",
      "2;56.234564;37.234590\r",
      "\r\n",
      "3;55.234578;36.295745"
     ]
    }
   ],
   "source": [
    "cat 22.csv"
   ]
  },
  {
   "cell_type": "code",
   "execution_count": 114,
   "metadata": {
    "scrolled": true
   },
   "outputs": [
    {
     "data": {
      "text/html": [
       "<div>\n",
       "<style scoped>\n",
       "    .dataframe tbody tr th:only-of-type {\n",
       "        vertical-align: middle;\n",
       "    }\n",
       "\n",
       "    .dataframe tbody tr th {\n",
       "        vertical-align: top;\n",
       "    }\n",
       "\n",
       "    .dataframe thead th {\n",
       "        text-align: right;\n",
       "    }\n",
       "</style>\n",
       "<table border=\"1\" class=\"dataframe\">\n",
       "  <thead>\n",
       "    <tr style=\"text-align: right;\">\n",
       "      <th></th>\n",
       "      <th>user_id</th>\n",
       "      <th>loc_lat</th>\n",
       "      <th>loc_lon</th>\n",
       "    </tr>\n",
       "  </thead>\n",
       "  <tbody>\n",
       "    <tr>\n",
       "      <td>0</td>\n",
       "      <td>1</td>\n",
       "      <td>55.737564</td>\n",
       "      <td>37.345186</td>\n",
       "    </tr>\n",
       "    <tr>\n",
       "      <td>1</td>\n",
       "      <td>2</td>\n",
       "      <td>56.234564</td>\n",
       "      <td>37.234590</td>\n",
       "    </tr>\n",
       "    <tr>\n",
       "      <td>2</td>\n",
       "      <td>3</td>\n",
       "      <td>55.234578</td>\n",
       "      <td>36.295745</td>\n",
       "    </tr>\n",
       "  </tbody>\n",
       "</table>\n",
       "</div>"
      ],
      "text/plain": [
       "   user_id    loc_lat    loc_lon\n",
       "0        1  55.737564  37.345186\n",
       "1        2  56.234564  37.234590\n",
       "2        3  55.234578  36.295745"
      ]
     },
     "execution_count": 114,
     "metadata": {},
     "output_type": "execute_result"
    }
   ],
   "source": [
    "f1 = pd.read_csv('22.csv',sep=';',header=0) \n",
    "f1"
   ]
  },
  {
   "cell_type": "code",
   "execution_count": 238,
   "metadata": {},
   "outputs": [],
   "source": [
    "#все таки добавлю точку внутри полигона, чтобы посмотреть, что все работает\n",
    "f1=f1.append({\"user_id\": 4, \"loc_lat\": 55.751352, \"loc_lon\": 37.781314},ignore_index=True)"
   ]
  },
  {
   "cell_type": "code",
   "execution_count": 186,
   "metadata": {},
   "outputs": [
    {
     "data": {
      "text/html": [
       "<div>\n",
       "<style scoped>\n",
       "    .dataframe tbody tr th:only-of-type {\n",
       "        vertical-align: middle;\n",
       "    }\n",
       "\n",
       "    .dataframe tbody tr th {\n",
       "        vertical-align: top;\n",
       "    }\n",
       "\n",
       "    .dataframe thead th {\n",
       "        text-align: right;\n",
       "    }\n",
       "</style>\n",
       "<table border=\"1\" class=\"dataframe\">\n",
       "  <thead>\n",
       "    <tr style=\"text-align: right;\">\n",
       "      <th></th>\n",
       "      <th>place_id</th>\n",
       "      <th>loc_lat</th>\n",
       "      <th>loc_lon</th>\n",
       "      <th>point_number</th>\n",
       "    </tr>\n",
       "  </thead>\n",
       "  <tbody>\n",
       "    <tr>\n",
       "      <td>0</td>\n",
       "      <td>1</td>\n",
       "      <td>55.747022</td>\n",
       "      <td>37.787073</td>\n",
       "      <td>0</td>\n",
       "    </tr>\n",
       "    <tr>\n",
       "      <td>1</td>\n",
       "      <td>1</td>\n",
       "      <td>55.751713</td>\n",
       "      <td>37.784328</td>\n",
       "      <td>1</td>\n",
       "    </tr>\n",
       "    <tr>\n",
       "      <td>2</td>\n",
       "      <td>1</td>\n",
       "      <td>55.753878</td>\n",
       "      <td>37.777638</td>\n",
       "      <td>2</td>\n",
       "    </tr>\n",
       "    <tr>\n",
       "      <td>3</td>\n",
       "      <td>1</td>\n",
       "      <td>55.751031</td>\n",
       "      <td>37.779351</td>\n",
       "      <td>3</td>\n",
       "    </tr>\n",
       "    <tr>\n",
       "      <td>4</td>\n",
       "      <td>2</td>\n",
       "      <td>55.803885</td>\n",
       "      <td>37.458311</td>\n",
       "      <td>0</td>\n",
       "    </tr>\n",
       "    <tr>\n",
       "      <td>5</td>\n",
       "      <td>2</td>\n",
       "      <td>55.808677</td>\n",
       "      <td>37.464054</td>\n",
       "      <td>1</td>\n",
       "    </tr>\n",
       "    <tr>\n",
       "      <td>6</td>\n",
       "      <td>2</td>\n",
       "      <td>55.809763</td>\n",
       "      <td>37.461314</td>\n",
       "      <td>2</td>\n",
       "    </tr>\n",
       "    <tr>\n",
       "      <td>7</td>\n",
       "      <td>2</td>\n",
       "      <td>55.810840</td>\n",
       "      <td>37.458654</td>\n",
       "      <td>3</td>\n",
       "    </tr>\n",
       "  </tbody>\n",
       "</table>\n",
       "</div>"
      ],
      "text/plain": [
       "   place_id    loc_lat    loc_lon  point_number\n",
       "0         1  55.747022  37.787073             0\n",
       "1         1  55.751713  37.784328             1\n",
       "2         1  55.753878  37.777638             2\n",
       "3         1  55.751031  37.779351             3\n",
       "4         2  55.803885  37.458311             0\n",
       "5         2  55.808677  37.464054             1\n",
       "6         2  55.809763  37.461314             2\n",
       "7         2  55.810840  37.458654             3"
      ]
     },
     "execution_count": 186,
     "metadata": {},
     "output_type": "execute_result"
    }
   ],
   "source": [
    "f2 = pd.read_csv('33.csv',sep=';',header=0)\n",
    "f2"
   ]
  },
  {
   "cell_type": "code",
   "execution_count": 121,
   "metadata": {},
   "outputs": [],
   "source": [
    "p11 = Point(f2.loc_lat[0],f2.loc_lon[0])"
   ]
  },
  {
   "cell_type": "code",
   "execution_count": 100,
   "metadata": {},
   "outputs": [],
   "source": [
    "def inside(p,poly):\n",
    "    return p.within(poly)"
   ]
  },
  {
   "cell_type": "code",
   "execution_count": 176,
   "metadata": {},
   "outputs": [],
   "source": [
    "s = {}\n",
    "def coord_poly(place_id):\n",
    "    coords = []\n",
    "    for i in range(0,4):\n",
    "        a=(f2.loc_lat[i],f2.loc_lon[i])\n",
    "        coords.append(a)\n",
    "    poly = Polygon(coords)\n",
    "    s[place_id] = poly"
   ]
  },
  {
   "cell_type": "code",
   "execution_count": 177,
   "metadata": {},
   "outputs": [],
   "source": [
    "def coord_point(user_id):\n",
    "    i =user_id\n",
    "    p = Point(f1.loc_lat[i-1],f1.loc_lon[i-1])\n",
    "    return p"
   ]
  },
  {
   "cell_type": "code",
   "execution_count": 178,
   "metadata": {},
   "outputs": [],
   "source": [
    "coord_Poly(1)"
   ]
  },
  {
   "cell_type": "code",
   "execution_count": 179,
   "metadata": {},
   "outputs": [],
   "source": [
    "coord_Poly(2)"
   ]
  },
  {
   "cell_type": "code",
   "execution_count": 188,
   "metadata": {},
   "outputs": [
    {
     "data": {
      "text/html": [
       "<div>\n",
       "<style scoped>\n",
       "    .dataframe tbody tr th:only-of-type {\n",
       "        vertical-align: middle;\n",
       "    }\n",
       "\n",
       "    .dataframe tbody tr th {\n",
       "        vertical-align: top;\n",
       "    }\n",
       "\n",
       "    .dataframe thead th {\n",
       "        text-align: right;\n",
       "    }\n",
       "</style>\n",
       "<table border=\"1\" class=\"dataframe\">\n",
       "  <thead>\n",
       "    <tr style=\"text-align: right;\">\n",
       "      <th></th>\n",
       "      <th>place_id</th>\n",
       "      <th>loc_lat</th>\n",
       "      <th>loc_lon</th>\n",
       "      <th>point_number</th>\n",
       "    </tr>\n",
       "  </thead>\n",
       "  <tbody>\n",
       "    <tr>\n",
       "      <td>0</td>\n",
       "      <td>1</td>\n",
       "      <td>55.747022</td>\n",
       "      <td>37.787073</td>\n",
       "      <td>0</td>\n",
       "    </tr>\n",
       "    <tr>\n",
       "      <td>1</td>\n",
       "      <td>1</td>\n",
       "      <td>55.751713</td>\n",
       "      <td>37.784328</td>\n",
       "      <td>1</td>\n",
       "    </tr>\n",
       "    <tr>\n",
       "      <td>2</td>\n",
       "      <td>1</td>\n",
       "      <td>55.753878</td>\n",
       "      <td>37.777638</td>\n",
       "      <td>2</td>\n",
       "    </tr>\n",
       "    <tr>\n",
       "      <td>3</td>\n",
       "      <td>1</td>\n",
       "      <td>55.751031</td>\n",
       "      <td>37.779351</td>\n",
       "      <td>3</td>\n",
       "    </tr>\n",
       "  </tbody>\n",
       "</table>\n",
       "</div>"
      ],
      "text/plain": [
       "   place_id    loc_lat    loc_lon  point_number\n",
       "0         1  55.747022  37.787073             0\n",
       "1         1  55.751713  37.784328             1\n",
       "2         1  55.753878  37.777638             2\n",
       "3         1  55.751031  37.779351             3"
      ]
     },
     "execution_count": 188,
     "metadata": {},
     "output_type": "execute_result"
    }
   ],
   "source": [
    "f2[f2.place_id == 1]"
   ]
  },
  {
   "cell_type": "code",
   "execution_count": 236,
   "metadata": {},
   "outputs": [
    {
     "name": "stdout",
     "output_type": "stream",
     "text": [
      "user_id= 1\n",
      "Availible: 0\n",
      "user_id= 2\n",
      "Availible: 0\n",
      "user_id= 3\n",
      "Availible: 0\n",
      "user_id= 4\n",
      "Availible: 1\n"
     ]
    }
   ],
   "source": [
    "for i in range (1,5):\n",
    "    print(\"user_id=\",i)\n",
    "    for j in range (1,3):\n",
    "        coord_Poly(j)\n",
    "        f2.place_id = j\n",
    "        cnt = 0\n",
    "        if inside(coord_point(i),s[j]) == True : cnt+=1\n",
    "    print(\"Availible:\",cnt)"
   ]
  },
  {
   "cell_type": "code",
   "execution_count": 237,
   "metadata": {},
   "outputs": [
    {
     "data": {
      "text/plain": [
       "55.747021999999994"
      ]
     },
     "execution_count": 237,
     "metadata": {},
     "output_type": "execute_result"
    }
   ],
   "source": [
    "f2.loc_lat[0]"
   ]
  },
  {
   "cell_type": "code",
   "execution_count": 239,
   "metadata": {},
   "outputs": [],
   "source": [
    "import numpy as np"
   ]
  },
  {
   "cell_type": "code",
   "execution_count": 247,
   "metadata": {},
   "outputs": [
    {
     "data": {
      "text/plain": [
       "3.5"
      ]
     },
     "execution_count": 247,
     "metadata": {},
     "output_type": "execute_result"
    }
   ],
   "source": [
    "a = [1, 2, 3, 4, 5, 6]\n",
    "np.mean(a)"
   ]
  },
  {
   "cell_type": "code",
   "execution_count": 249,
   "metadata": {},
   "outputs": [
    {
     "data": {
      "text/plain": [
       "5.0"
      ]
     },
     "execution_count": 249,
     "metadata": {},
     "output_type": "execute_result"
    }
   ],
   "source": [
    "b=[4,5,6]\n",
    "np.mean(b)"
   ]
  },
  {
   "cell_type": "markdown",
   "metadata": {},
   "source": [
    "Логика будет такой, если выпало 4, 5, 6, то перебрасывать невыгодно. Мат. ожидание - это вероятность на исход. \n",
    "\n",
    "Веростность что мы перебросим = $\\frac{3}{6}$ , исход = $\\frac{1+2+3+4+5+6}{6} = 3.5$\n",
    "\n",
    "Веростность что мы НЕ перебросим = $\\frac{3}{6}$ , исход = $\\frac{4+5+6}{3} = 5.0$\n",
    "\n",
    "M_2 = $\\frac{3}{6}*3.5+\\frac{3}{6}*5.0= 4.25$"
   ]
  },
  {
   "cell_type": "code",
   "execution_count": 250,
   "metadata": {},
   "outputs": [
    {
     "data": {
      "text/plain": [
       "4.25"
      ]
     },
     "execution_count": 250,
     "metadata": {},
     "output_type": "execute_result"
    }
   ],
   "source": [
    "0.5*3.5+0.5*5"
   ]
  },
  {
   "cell_type": "code",
   "execution_count": 252,
   "metadata": {},
   "outputs": [
    {
     "data": {
      "text/plain": [
       "4.166666666666666"
      ]
     },
     "execution_count": 252,
     "metadata": {},
     "output_type": "execute_result"
    }
   ],
   "source": [
    "4/6*3.5+5.5*2/6  #если перебрасывать 5,6"
   ]
  },
  {
   "cell_type": "markdown",
   "metadata": {},
   "source": [
    "1st```\n",
    "       SELECT  (count(CASE WHEN promocode_id IS NOT NULL THEN 1 END)/count(*)*100) as \"Доля без промокодов\"\n",
    "FROM `Yandex.Eda`.orders LEFT JOIN promocodes\n",
    "ON orders.promocode_id = promocodes.id\n",
    "```"
   ]
  },
  {
   "cell_type": "markdown",
   "metadata": {},
   "source": [
    "2nd```\n",
    "SELECT disc, n  FROM(\n",
    "\tSELECT name AS n, SUM(discount) AS disc\n",
    "\tFROM `Yandex.Eda`.orders LEFT JOIN promocodes\n",
    "\tON orders.promocode_id = promocodes.id\n",
    "\tWHERE orders.promocode_id IS NOT NULL\n",
    "\tGROUP by name) AS e\n",
    "    GROUP by n\n",
    "    Order BY MAX(disc) DESC\n",
    "LIMIT 1\n",
    "```"
   ]
  },
  {
   "cell_type": "markdown",
   "metadata": {},
   "source": [
    "table orders\n",
    "\n",
    "|id|promocode_id|\n",
    "|----|------|\n",
    "| 1  | 1    |\n",
    "| 2  | 2    |\n",
    "| 3  | 3    |\n",
    "| 4  | 3    |\n",
    "| 5  | 3    |\n",
    "| 6  | 1    |\n",
    "| 7  | 2    |\n",
    "| 8  | 1    |\n",
    "| 9  | null |\n",
    "| 10 | null |\n",
    "| 11 | null |\n",
    "| 12 | null |\n",
    "| 13 | null |\n",
    "\n",
    "table promocodes\n",
    "\n",
    "| id | name | discount |\n",
    "|----|------|----------|\n",
    "| 1  | s    | 200      |\n",
    "| 2  | m    | 300      |\n",
    "| 3  | l    | 400      |\n",
    "\n",
    "\n",
    "\n"
   ]
  },
  {
   "cell_type": "code",
   "execution_count": null,
   "metadata": {},
   "outputs": [],
   "source": []
  }
 ],
 "metadata": {
  "kernelspec": {
   "display_name": "Python 3",
   "language": "python",
   "name": "python3"
  },
  "language_info": {
   "codemirror_mode": {
    "name": "ipython",
    "version": 3
   },
   "file_extension": ".py",
   "mimetype": "text/x-python",
   "name": "python",
   "nbconvert_exporter": "python",
   "pygments_lexer": "ipython3",
   "version": "3.7.4"
  }
 },
 "nbformat": 4,
 "nbformat_minor": 2
}
